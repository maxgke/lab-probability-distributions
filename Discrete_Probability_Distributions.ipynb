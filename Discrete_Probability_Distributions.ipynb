{
 "cells": [
  {
   "cell_type": "markdown",
   "metadata": {
    "Collapsed": "false",
    "colab_type": "text",
    "id": "v5KG7k5acKXp"
   },
   "source": [
    "# Discrete Probability Distributions"
   ]
  },
  {
   "cell_type": "markdown",
   "metadata": {},
   "source": [
    "How probable it is that something will happen? previously we have started talking about probability in an introductory way but didn't talk much about theory on how to properly calculate it.\n",
    "+ Discrete: for integers and limited possible outcomes.\n",
    "+ Continuous: for decimals and unlimited possible outcomes."
   ]
  },
  {
   "cell_type": "markdown",
   "metadata": {
    "Collapsed": "false",
    "colab_type": "text",
    "id": "sXa-DdB4cN9D"
   },
   "source": [
    "## Introduction\n",
    "\n",
    "In this lesson we will focus on discrete probability distributions. "
   ]
  },
  {
   "cell_type": "markdown",
   "metadata": {
    "colab_type": "text",
    "id": "_Y8QwxNKq0d6"
   },
   "source": [
    "We will learn about:"
   ]
  },
  {
   "cell_type": "markdown",
   "metadata": {
    "colab_type": "text",
    "id": "hGDvCak4q0d6"
   },
   "source": [
    "- What a discrete random variable is;"
   ]
  },
  {
   "cell_type": "markdown",
   "metadata": {
    "colab_type": "text",
    "id": "pG6604lHq0d7"
   },
   "source": [
    "- Binomial distribution"
   ]
  },
  {
   "cell_type": "markdown",
   "metadata": {
    "colab_type": "text",
    "id": "lfOKBRzfq0d8"
   },
   "source": [
    "- Poisson distribution"
   ]
  },
  {
   "cell_type": "markdown",
   "metadata": {
    "colab_type": "text",
    "id": "_ICtt1P-q0d8"
   },
   "source": [
    "## Discrete Random Variables\n"
   ]
  },
  {
   "cell_type": "markdown",
   "metadata": {
    "Collapsed": "false",
    "colab_type": "text",
    "id": "rXEyugKtcXdl"
   },
   "source": [
    "Consider an experiment where we are rolling a dice twice."
   ]
  },
  {
   "cell_type": "markdown",
   "metadata": {
    "Collapsed": "false",
    "colab_type": "text",
    "id": "HxoL53nno-w8"
   },
   "source": [
    "\n",
    "\n",
    "> $S = \\{ (1,1), (1,2), (1,3), (1,4), (1,5), (1,6), (2,1), (2,2), (2,3), .......... \\}$\n",
    "\n"
   ]
  },
  {
   "cell_type": "markdown",
   "metadata": {
    "Collapsed": "false",
    "colab_type": "text",
    "id": "WsIwTZlccaDm"
   },
   "source": [
    "This can be represented by a random variable X as follows:"
   ]
  },
  {
   "cell_type": "markdown",
   "metadata": {
    "Collapsed": "false",
    "colab_type": "text",
    "id": "fk1X4pebhnVE"
   },
   "source": [
    "\n",
    "\n",
    "> X = {Sum of numbers on the die when rolled twice}\n",
    "\n"
   ]
  },
  {
   "cell_type": "markdown",
   "metadata": {
    "colab_type": "text",
    "id": "WV9h6ztVq0d_"
   },
   "source": [
    "Why is this a **discrete random variable**?"
   ]
  },
  {
   "cell_type": "markdown",
   "metadata": {
    "colab_type": "text",
    "id": "mdwmNVfrq0d_"
   },
   "source": [
    "Because the outcomes are **finite** and **discrete**. "
   ]
  },
  {
   "cell_type": "markdown",
   "metadata": {
    "colab_type": "text",
    "id": "f7IM1_BWq0d_"
   },
   "source": [
    "In the case of a double dice roll, there are only 11 possible outcomes. "
   ]
  },
  {
   "cell_type": "markdown",
   "metadata": {
    "Collapsed": "false",
    "colab_type": "text",
    "id": "3SmEhpAXcrnM"
   },
   "source": [
    "\n",
    "\n",
    "1.   P{X = 2} = P{(1, 1)} = 1/36\n",
    "2.   P{X = 3} = P{(1, 2), (2, 1)} =2/36\n",
    "3.   P{X = 4} = P{(1, 3), (2, 2), (3, 1)} = 3/36\n",
    "4.   P{X = 5} = P{(1, 4), (2, 3), (3, 2), (4, 1)} = 4/36\n",
    "5.   P{X = 6} = P{(1, 5), (2, 4), (3, 3), (4, 2), (5, 1)} = 5/36\n",
    "6.   P{X = 7} = P{(1, 6), (2, 5), (3, 4), (4, 3), (5, 2), (6, 1)} = 6/36\n",
    "7.   P{X = 8} = P{(2, 6), (3, 5), (4, 4), (5, 3), (6, 2)} = 5/36\n",
    "8.   P{X = 9} = P{(3, 6), (4, 5), (5, 4), (6, 3)} = 4/36\n",
    "9.   P{X = 10} = P{(4, 6), (5, 5), (6, 4)} = 3/36\n",
    "10.   P{X = 11} = P{(5, 6), (6, 5)} = 2/36\n",
    "11.   P{X = 12} = P{(6, 6)} = 1/36\n",
    "\n"
   ]
  },
  {
   "cell_type": "markdown",
   "metadata": {
    "colab_type": "text",
    "id": "Mnnq1dbJq0eA"
   },
   "source": [
    "For a **non-discrete** variable, the outcome is (close to) infinite. "
   ]
  },
  {
   "cell_type": "markdown",
   "metadata": {
    "colab_type": "text",
    "id": "kf08Nv6eq0eB"
   },
   "source": [
    "For example, for the random variable **income**, we can say that a person can make (read: take the values of) 1000 dollars a year, another one makes 30000 dollars a year, yet another one makes 1001.99 dollars a year... etc. "
   ]
  },
  {
   "cell_type": "markdown",
   "metadata": {
    "colab_type": "text",
    "id": "GN6MrDa3q0eB"
   },
   "source": [
    "The set of possible outcomes is simply too large to count and therefore not discrete. "
   ]
  },
  {
   "cell_type": "markdown",
   "metadata": {
    "colab_type": "text",
    "id": "pRnbic_xq0eC"
   },
   "source": [
    "**Important**: Keep the following in mind:"
   ]
  },
  {
   "cell_type": "markdown",
   "metadata": {
    "Collapsed": "false",
    "colab_type": "text",
    "id": "9QNczp0ud9qN"
   },
   "source": [
    "The sum of all the probabilities added together is 1:\n",
    "\n",
    "\n",
    "\n",
    "> $\\sum_{x_{i}} P(X=x_{i}) = 1$\n",
    "\n"
   ]
  },
  {
   "cell_type": "markdown",
   "metadata": {
    "Collapsed": "false",
    "colab_type": "text",
    "id": "A5wSnmn2eZQf"
   },
   "source": [
    "## Types of Discrete Random Variables \n"
   ]
  },
  {
   "cell_type": "markdown",
   "metadata": {
    "colab_type": "text",
    "id": "VoaqvP7-q0en"
   },
   "source": [
    "### Bernoulli Random Variables: for binaries\n"
   ]
  },
  {
   "cell_type": "markdown",
   "metadata": {
    "Collapsed": "false",
    "colab_type": "text",
    "id": "XCa4ogTGeg5j"
   },
   "source": [
    "\n",
    "\n",
    "\n",
    "\n",
    "This distribution occurs when the outcome can be classified as either a “success” or as a “failure”. Therefore the outcome equals 1 there is a success and a 0 if it results in failure."
   ]
  },
  {
   "cell_type": "markdown",
   "metadata": {
    "Collapsed": "false",
    "colab_type": "text",
    "id": "FClxtR50enYt"
   },
   "source": [
    "$P(X = 1) = p$,  where $p$ is the probability of success\n",
    "\n",
    "$P(X = 0) = 1 − p$"
   ]
  },
  {
   "cell_type": "markdown",
   "metadata": {
    "colab_type": "text",
    "id": "1qFhUKWpq0eo"
   },
   "source": [
    "Also note that if we sample from a distribution, we denote this as \n",
    "\n",
    "$$x_{i} \\sim Ber(p).$$\n",
    "\n",
    "In the example provided below, we sample from a random Bernoulli variable with a success probability of 0.8. Hence,\n",
    "\n",
    "$$x_{i} \\sim Ber(0.8)$$"
   ]
  },
  {
   "cell_type": "markdown",
   "metadata": {
    "colab_type": "text",
    "id": "D6AYdJwjq0eo"
   },
   "source": [
    "Let us first import the necessary libraries."
   ]
  },
  {
   "cell_type": "code",
   "execution_count": 348,
   "metadata": {},
   "outputs": [],
   "source": [
    "import scipy\n",
    "import matplotlib.pyplot as plt\n",
    "from scipy.stats import bernoulli"
   ]
  },
  {
   "cell_type": "code",
   "execution_count": 351,
   "metadata": {},
   "outputs": [
    {
     "data": {
      "image/png": "[encoded data removed]",
      "text/plain": [
       "<Figure size 432x288 with 1 Axes>"
      ]
     },
     "metadata": {
      "needs_background": "light"
     },
     "output_type": "display_data"
    }
   ],
   "source": [
    "p = 0.5   \n",
    "\n",
    "bernoulli_v = bernoulli.rvs(p, size=100)\n",
    "plt.hist(bernoulli_v)\n",
    "plt.show()"
   ]
  },
  {
   "cell_type": "code",
   "execution_count": 352,
   "metadata": {
    "Collapsed": "false",
    "colab": {
     "base_uri": "https://localhost:8080/",
     "height": 265
    },
    "colab_type": "code",
    "executionInfo": {
     "elapsed": 1066,
     "status": "ok",
     "timestamp": 1585073144903,
     "user": {
      "displayName": "Louk Smalbil",
      "photoUrl": "https://lh3.googleusercontent.com/a-/AOh14GiByqcfGW98Bn42uapsD4oj4auyrLV9xURPKHUj=s64",
      "userId": "10422991521784029462"
     },
     "user_tz": -60
    },
    "id": "4gmAivM3Feiw",
    "outputId": "d6c13c46-74f8-4943-c180-2b45399b9c11"
   },
   "outputs": [
    {
     "data": {
      "image/png": "[encoded data removed]",
      "text/plain": [
       "<Figure size 432x288 with 1 Axes>"
      ]
     },
     "metadata": {
      "needs_background": "light"
     },
     "output_type": "display_data"
    }
   ],
   "source": [
    "p = 1/6    \n",
    "\n",
    "bernoulli_v = bernoulli.rvs(p, size=100)\n",
    "plt.hist(bernoulli_v)\n",
    "plt.show()"
   ]
  },
  {
   "cell_type": "markdown",
   "metadata": {
    "colab_type": "text",
    "id": "9Cbs8ADJq0et"
   },
   "source": [
    "### Binomial Distribution"
   ]
  },
  {
   "cell_type": "code",
   "execution_count": 353,
   "metadata": {
    "Collapsed": "false",
    "colab": {},
    "colab_type": "code",
    "id": "TIJE6BsGEzX5"
   },
   "outputs": [],
   "source": [
    "%matplotlib inline\n",
    "from scipy import stats\n",
    "from scipy.stats import binom"
   ]
  },
  {
   "cell_type": "markdown",
   "metadata": {
    "colab_type": "text",
    "id": "ppHu-RvAq0ev"
   },
   "source": [
    "For an explanation of the binomial distribution, let's have look at the following clip."
   ]
  },
  {
   "cell_type": "code",
   "execution_count": 354,
   "metadata": {
    "colab": {},
    "colab_type": "code",
    "id": "VCr_3gqeq0ev",
    "outputId": "43d90dde-35db-4a1a-e61d-259f1f45481f"
   },
   "outputs": [
    {
     "data": {
      "image/jpeg": "[encoded data removed]",
      "text/html": [
       "\n",
       "        <iframe\n",
       "            width=\"800\"\n",
       "            height=\"500\"\n",
       "            src=\"https://www.youtube.com/embed/8idr1WZ1A7Q\"\n",
       "            frameborder=\"0\"\n",
       "            allowfullscreen\n",
       "        ></iframe>\n",
       "        "
      ],
      "text/plain": [
       "<IPython.lib.display.YouTubeVideo at 0x7fb55c2a1750>"
      ]
     },
     "execution_count": 354,
     "metadata": {},
     "output_type": "execute_result"
    }
   ],
   "source": [
    "from IPython.display import YouTubeVideo\n",
    "YouTubeVideo('8idr1WZ1A7Q', width=800, height=500)"
   ]
  },
  {
   "cell_type": "markdown",
   "metadata": {
    "colab_type": "text",
    "id": "J0q7R1KEq0ex"
   },
   "source": [
    "Now that we've seen the example from 3B1B, let us implement this. Recall that we are looking for 48 positive reviews vs. 2 negative reviews.\n",
    "\n",
    "## Given a probability P and a sample size n, what is the probability that I will get exactly X true values"
   ]
  },
  {
   "cell_type": "code",
   "execution_count": null,
   "metadata": {
    "colab": {},
    "colab_type": "code",
    "id": "lKV1iGVuq0ex"
   },
   "outputs": [],
   "source": [
    "#binomial.rvs(1000)"
   ]
  },
  {
   "cell_type": "code",
   "execution_count": 356,
   "metadata": {},
   "outputs": [
    {
     "data": {
      "text/plain": [
       "45.599999999999994"
      ]
     },
     "execution_count": 356,
     "metadata": {},
     "output_type": "execute_result"
    }
   ],
   "source": [
    "48*0.95"
   ]
  },
  {
   "cell_type": "code",
   "execution_count": 355,
   "metadata": {},
   "outputs": [
    {
     "name": "stdout",
     "output_type": "stream",
     "text": [
      "0.26640044846842276\n"
     ]
    },
    {
     "data": {
      "image/png": "[encoded data removed]",
      "text/plain": [
       "<Figure size 432x288 with 1 Axes>"
      ]
     },
     "metadata": {
      "needs_background": "light"
     },
     "output_type": "display_data"
    }
   ],
   "source": [
    "n=48\n",
    "p=0.95\n",
    "binomial = binom(n,p)\n",
    "\n",
    "goodreviews = 46\n",
    "\n",
    "x = np.arange(0,50)\n",
    "fig, ax = plt.subplots(1, 1)\n",
    "ax.plot(x, binom.pmf(x, n, p), 'bo')\n",
    "ax.vlines(x, 0, binom.pmf(x, n, p), colors='b', lw=5, alpha=0.5)\n",
    "plt.xlabel('Number of Positive Reviews')\n",
    "plt.ylabel('Probability') \n",
    "\n",
    "print(binomial.pmf(goodreviews))"
   ]
  },
  {
   "cell_type": "markdown",
   "metadata": {
    "colab_type": "text",
    "id": "FQks_aZbq0e1"
   },
   "source": [
    "To obtain the probability that we obtain exactly 40 positive reviews, we can use the pmf method (probability mass function).  "
   ]
  },
  {
   "cell_type": "code",
   "execution_count": 357,
   "metadata": {
    "Collapsed": "false",
    "colab": {
     "base_uri": "https://localhost:8080/",
     "height": 34
    },
    "colab_type": "code",
    "executionInfo": {
     "elapsed": 475,
     "status": "ok",
     "timestamp": 1585082020999,
     "user": {
      "displayName": "Louk Smalbil",
      "photoUrl": "https://lh3.googleusercontent.com/a-/AOh14GiByqcfGW98Bn42uapsD4oj4auyrLV9xURPKHUj=s64",
      "userId": "10422991521784029462"
     },
     "user_tz": -60
    },
    "id": "d70UfyY6Pd9Y",
    "outputId": "7c5d6dcc-965b-411c-da9c-b7c3dd8d19a6"
   },
   "outputs": [
    {
     "name": "stdout",
     "output_type": "stream",
     "text": [
      "0.0018942942576801575\n"
     ]
    },
    {
     "data": {
      "image/png": "[encoded data removed]",
      "text/plain": [
       "<Figure size 432x288 with 1 Axes>"
      ]
     },
     "metadata": {
      "needs_background": "light"
     },
     "output_type": "display_data"
    }
   ],
   "source": [
    "n=48\n",
    "p=0.95\n",
    "binomial = binom(n,p)\n",
    "\n",
    "goodreviews = 40\n",
    "\n",
    "x = np.arange(0,50)\n",
    "fig, ax = plt.subplots(1, 1)\n",
    "ax.plot(x, binom.pmf(x, n, p), 'bo')\n",
    "ax.vlines(x, 0, binom.pmf(x, n, p), colors='b', lw=5, alpha=0.5)\n",
    "plt.xlabel('Number of Positive Reviews')\n",
    "plt.ylabel('Probability') \n",
    "\n",
    "print(binomial.pmf(goodreviews))"
   ]
  },
  {
   "cell_type": "code",
   "execution_count": 358,
   "metadata": {},
   "outputs": [
    {
     "name": "stdout",
     "output_type": "stream",
     "text": [
      "0.015762853340351796\n"
     ]
    },
    {
     "data": {
      "image/png": "[encoded data removed]",
      "text/plain": [
       "<Figure size 432x288 with 1 Axes>"
      ]
     },
     "metadata": {
      "needs_background": "light"
     },
     "output_type": "display_data"
    }
   ],
   "source": [
    "n=48\n",
    "p=0.7\n",
    "binomial = binom(n,p)\n",
    "\n",
    "goodreviews = 40\n",
    "\n",
    "x = np.arange(0,50)\n",
    "fig, ax = plt.subplots(1, 1)\n",
    "ax.plot(x, binom.pmf(x, n, p), 'bo')\n",
    "ax.vlines(x, 0, binom.pmf(x, n, p), colors='b', lw=5, alpha=0.5)\n",
    "plt.xlabel('Number of Positive Reviews')\n",
    "plt.ylabel('Probability') \n",
    "\n",
    "print(binomial.pmf(goodreviews))"
   ]
  },
  {
   "cell_type": "code",
   "execution_count": 359,
   "metadata": {
    "colab": {},
    "colab_type": "code",
    "id": "abSWTTErq0e3",
    "outputId": "a610077e-a839-487d-e028-4d549672bd22"
   },
   "outputs": [
    {
     "name": "stdout",
     "output_type": "stream",
     "text": [
      "0.0\n"
     ]
    }
   ],
   "source": [
    "# pmf does not accept any value\n",
    "print(binomial.pmf(45.5)) "
   ]
  },
  {
   "cell_type": "markdown",
   "metadata": {},
   "source": [
    "## We can also get the accumulated distribution using cdf"
   ]
  },
  {
   "cell_type": "code",
   "execution_count": 362,
   "metadata": {},
   "outputs": [
    {
     "name": "stdout",
     "output_type": "stream",
     "text": [
      "0.5561375863296087\n"
     ]
    },
    {
     "data": {
      "image/png": "[encoded data removed]",
      "text/plain": [
       "<Figure size 432x288 with 1 Axes>"
      ]
     },
     "metadata": {
      "needs_background": "light"
     },
     "output_type": "display_data"
    }
   ],
   "source": [
    "n=50\n",
    "p=0.5\n",
    "binomial = binom(n,p)\n",
    "\n",
    "x = np.arange(0,n)\n",
    "fig, ax = plt.subplots(1, 1)\n",
    "ax.plot(x, binom.pmf(x, n, p), 'bo')\n",
    "ax.vlines(x, 0, binom.pmf(x, n, p), colors='b', lw=5, alpha=0.5)\n",
    "plt.xlabel('Number of Positive Reviews')\n",
    "plt.ylabel('Probability') \n",
    "\n",
    "print(binomial.cdf(25))"
   ]
  },
  {
   "cell_type": "markdown",
   "metadata": {},
   "source": [
    "## The highest the sample size, the closer we will get to P"
   ]
  },
  {
   "cell_type": "code",
   "execution_count": 365,
   "metadata": {},
   "outputs": [
    {
     "name": "stdout",
     "output_type": "stream",
     "text": [
      "0.5397946186935897\n"
     ]
    },
    {
     "data": {
      "image/png": "[encoded data removed]",
      "text/plain": [
       "<Figure size 432x288 with 1 Axes>"
      ]
     },
     "metadata": {
      "needs_background": "light"
     },
     "output_type": "display_data"
    }
   ],
   "source": [
    "n=100\n",
    "p=0.5\n",
    "binomial = binom(n,p)\n",
    "\n",
    "x = np.arange(0,n)\n",
    "fig, ax = plt.subplots(1, 1)\n",
    "ax.plot(x, binom.pmf(x, n, p), 'bo')\n",
    "ax.vlines(x, 0, binom.pmf(x, n, p), colors='b', lw=5, alpha=0.5)\n",
    "plt.xlabel('Number of Positive Reviews')\n",
    "plt.ylabel('Probability') \n",
    "\n",
    "print(binomial.cdf(n*p))"
   ]
  },
  {
   "cell_type": "markdown",
   "metadata": {
    "colab_type": "text",
    "id": "C_h8OJEtq0e6"
   },
   "source": [
    "# Poisson Random Variable\n"
   ]
  },
  {
   "cell_type": "markdown",
   "metadata": {
    "colab_type": "text",
    "id": "L_iuzMPnq0e6"
   },
   "source": [
    "We often encounter this distribution when we want to determine the frequency of something within a given unit of time.\n",
    "\n",
    "With a binomial distribution you have a certain number, 𝑛, of \"attempts,\" each of which has probability of success 𝑝. With a Poisson distribution, you essentially have infinite attempts, with infinitesimal chance of success. That is, given a Binomial distribution with some 𝑛,𝑝, if you let 𝑛→∞ and 𝑝→0 in such a way that 𝑛𝑝→𝜆, then that distribution approaches a Poisson distribution with parameter 𝜆."
   ]
  },
  {
   "cell_type": "code",
   "execution_count": 366,
   "metadata": {
    "colab": {},
    "colab_type": "code",
    "id": "JYWcPMfSq0e7",
    "outputId": "a3249948-93af-4663-c045-136b86359f47"
   },
   "outputs": [
    {
     "data": {
      "image/jpeg": "[encoded data removed]",
      "text/html": [
       "\n",
       "        <iframe\n",
       "            width=\"800\"\n",
       "            height=\"500\"\n",
       "            src=\"https://www.youtube.com/embed/jmqZG6roVqU\"\n",
       "            frameborder=\"0\"\n",
       "            allowfullscreen\n",
       "        ></iframe>\n",
       "        "
      ],
      "text/plain": [
       "<IPython.lib.display.YouTubeVideo at 0x7fb55bf2d610>"
      ]
     },
     "execution_count": 366,
     "metadata": {},
     "output_type": "execute_result"
    }
   ],
   "source": [
    "from IPython.display import YouTubeVideo\n",
    "YouTubeVideo('jmqZG6roVqU', width=800, height=500)"
   ]
  },
  {
   "cell_type": "markdown",
   "metadata": {
    "colab_type": "text",
    "id": "TNlYk5XKq0e9"
   },
   "source": [
    "## What is the probability that there are exactly X number of positive events on a given time frame given that the average event success per timeframe is Y?\n",
    "\n",
    "Before moving on, let's first import the necessary libraries. "
   ]
  },
  {
   "cell_type": "code",
   "execution_count": 367,
   "metadata": {
    "colab": {},
    "colab_type": "code",
    "id": "oEKDpw0Eq0e9"
   },
   "outputs": [],
   "source": [
    "%matplotlib inline \n",
    "from scipy import stats\n",
    "from scipy.stats import poisson"
   ]
  },
  {
   "cell_type": "markdown",
   "metadata": {
    "colab_type": "text",
    "id": "G2Br_bhqq0e_"
   },
   "source": [
    "Let us now implement the example from the clip. Recall that what we want to find is the probability that there are exactly 3 radioactive decays for Plutonium-239 within a 2-second time frame given that the average decay is 2.3 per second."
   ]
  },
  {
   "cell_type": "code",
   "execution_count": 372,
   "metadata": {
    "colab": {},
    "colab_type": "code",
    "id": "AlMMim99q0e_",
    "outputId": "ad2a0102-d308-4029-d206-c83bd660d235"
   },
   "outputs": [
    {
     "name": "stdout",
     "output_type": "stream",
     "text": [
      "The probability that there are 3 decays within a 2-second time frame is: 0.1631\n"
     ]
    }
   ],
   "source": [
    "P = 2.3\n",
    "timeinproblem = 2\n",
    "numberofsucceses=3 \n",
    "\n",
    "lambda_possoin = P * timeinproblem\n",
    "poisson = stats.poisson(lambda_possoin)\n",
    "# Draw random samples\n",
    "print('The probability that there are 3 decays within a 2-second time frame is:', round(poisson.pmf(numberofsucceses), 4))"
   ]
  },
  {
   "cell_type": "code",
   "execution_count": 373,
   "metadata": {},
   "outputs": [
    {
     "name": "stdout",
     "output_type": "stream",
     "text": [
      "The probability that there are 4 decays within a 2-second time frame is: 0.1875\n"
     ]
    }
   ],
   "source": [
    "P = 2.3\n",
    "timeinproblem = 2\n",
    "numberofsucceses=4 \n",
    "\n",
    "lambda_possoin = P * timeinproblem\n",
    "poisson = stats.poisson(lambda_possoin)\n",
    "# Draw random samples\n",
    "print('The probability that there are 4 decays within a 2-second time frame is:', round(poisson.pmf(numberofsucceses), 4))"
   ]
  },
  {
   "cell_type": "code",
   "execution_count": 371,
   "metadata": {
    "colab": {},
    "colab_type": "code",
    "id": "ofVRPxv6q0fB",
    "outputId": "01e810e2-0d11-48a6-f783-fae9624984bc"
   },
   "outputs": [
    {
     "data": {
      "text/plain": [
       "Text(0, 0.5, 'Probability')"
      ]
     },
     "execution_count": 371,
     "metadata": {},
     "output_type": "execute_result"
    },
    {
     "data": {
      "image/png": "[encoded data removed]",
      "text/plain": [
       "<Figure size 432x288 with 1 Axes>"
      ]
     },
     "metadata": {
      "needs_background": "light"
     },
     "output_type": "display_data"
    }
   ],
   "source": [
    "x = np.arange(0,20)\n",
    "fig, ax = plt.subplots(1, 1)\n",
    "ax.plot(x, poisson.pmf(x), 'bo', ms=1, label='poisson pmf')\n",
    "#Plot axis vertical lines\n",
    "ax.vlines(x, 0, poisson.pmf(x), colors='b', lw=5, alpha=0.5)\n",
    "plt.xlabel('Number of Decays')\n",
    "plt.ylabel('Probability')"
   ]
  },
  {
   "cell_type": "markdown",
   "metadata": {},
   "source": [
    "## What does it remind you?"
   ]
  },
  {
   "cell_type": "code",
   "execution_count": 374,
   "metadata": {},
   "outputs": [
    {
     "data": {
      "text/plain": [
       "<matplotlib.axes._subplots.AxesSubplot at 0x7fb55c577850>"
      ]
     },
     "execution_count": 374,
     "metadata": {},
     "output_type": "execute_result"
    },
    {
     "data": {
      "image/png": "[encoded data removed]",
      "text/plain": [
       "<Figure size 432x288 with 1 Axes>"
      ]
     },
     "metadata": {
      "needs_background": "light"
     },
     "output_type": "display_data"
    }
   ],
   "source": [
    "mu = 0\n",
    "sigma = 15\n",
    "norm.cdf(100,loc=mu,scale=sigma) \n",
    "sns.distplot(gaussian, kde=True)"
   ]
  },
  {
   "cell_type": "code",
   "execution_count": 376,
   "metadata": {},
   "outputs": [],
   "source": [
    "import math"
   ]
  },
  {
   "cell_type": "markdown",
   "metadata": {},
   "source": [
    "## Variance is the standard deviation powered to two. Lambda poisson equals the variance of the poisson distribution"
   ]
  },
  {
   "cell_type": "code",
   "execution_count": 377,
   "metadata": {},
   "outputs": [
    {
     "data": {
      "text/plain": [
       "0.3252774046963427"
      ]
     },
     "execution_count": 377,
     "metadata": {},
     "output_type": "execute_result"
    }
   ],
   "source": [
    "p= 2.3\n",
    "timeinproblem = 2\n",
    "\n",
    "lambdapoisson = p*timeinproblem\n",
    "stddev= math.sqrt(lambdapoisson)\n",
    "\n",
    "\n",
    "poisson.cdf(lambdapoisson-stddev)*2"
   ]
  },
  {
   "cell_type": "code",
   "execution_count": 378,
   "metadata": {},
   "outputs": [
    {
     "data": {
      "text/plain": [
       "0.6747225953036573"
      ]
     },
     "execution_count": 378,
     "metadata": {},
     "output_type": "execute_result"
    }
   ],
   "source": [
    "1-poisson.cdf(lambdapoisson-stddev)*2"
   ]
  },
  {
   "cell_type": "markdown",
   "metadata": {
    "colab_type": "text",
    "id": "tbPfKgenq0fC"
   },
   "source": [
    "Suppose you like to watch the Tour de France. Per every 40 kilometer on average 20 out of the total 218 runners will fall. What is the probability that if you're watching an etappe of 140 kilometers you'll see at least 80 runners fall.\n",
    "\n",
    "Now we have that P is linked to 40 km instead."
   ]
  },
  {
   "cell_type": "code",
   "execution_count": 381,
   "metadata": {},
   "outputs": [
    {
     "name": "stdout",
     "output_type": "stream",
     "text": [
      "0.10660000000000003\n"
     ]
    }
   ],
   "source": [
    "P = 20\n",
    "timeinproblem = 140/40\n",
    "numberofsucceses= 80 \n",
    "\n",
    "lambda_possoin = P * timeinproblem\n",
    "poisson = stats.poisson(lambda_possoin)\n",
    "# Draw random samples\n",
    "print( 1 - round(poisson.cdf(numberofsucceses),4))"
   ]
  },
  {
   "cell_type": "code",
   "execution_count": 382,
   "metadata": {
    "colab": {},
    "colab_type": "code",
    "id": "UoFbdlBkq0fE",
    "outputId": "7e1e32c4-a446-4937-9b00-27f0f6c6abb7"
   },
   "outputs": [
    {
     "data": {
      "text/plain": [
       "Text(0, 0.5, 'Probability')"
      ]
     },
     "execution_count": 382,
     "metadata": {},
     "output_type": "execute_result"
    },
    {
     "data": {
      "image/png": "[encoded data removed]",
      "text/plain": [
       "<Figure size 432x288 with 1 Axes>"
      ]
     },
     "metadata": {
      "needs_background": "light"
     },
     "output_type": "display_data"
    }
   ],
   "source": [
    "x = np.arange(30,120)\n",
    "fig, ax = plt.subplots(1, 1)\n",
    "ax.plot(x, poisson.pmf(x), 'bo', ms=1, label='poisson pmf')\n",
    "#Plot axis vertical lines\n",
    "ax.vlines(x, 0, poisson.pmf(x), colors='b', lw=5, alpha=0.5)\n",
    "plt.xlabel('Number of ciclist falling')\n",
    "plt.ylabel('Probability')"
   ]
  },
  {
   "cell_type": "markdown",
   "metadata": {
    "Collapsed": "false",
    "colab_type": "text",
    "id": "nWf_6Gd0o5BI"
   },
   "source": [
    "## Summary \n",
    "\n",
    "In this lesson we learnt about:"
   ]
  },
  {
   "cell_type": "markdown",
   "metadata": {
    "colab_type": "text",
    "id": "cxBERGQbq0fI"
   },
   "source": [
    "- Discrete random variables;\n"
   ]
  },
  {
   "cell_type": "markdown",
   "metadata": {
    "colab_type": "text",
    "id": "ULZZnt03q0fI"
   },
   "source": [
    "- Discrete probability distributions;  "
   ]
  },
  {
   "cell_type": "markdown",
   "metadata": {
    "colab_type": "text",
    "id": "Q6qNNcVKq0fI"
   },
   "source": [
    "- PMF (probability mass function);"
   ]
  },
  {
   "cell_type": "markdown",
   "metadata": {
    "colab_type": "text",
    "id": "dCUqCr8tq0fJ"
   },
   "source": [
    "- Important distributions including Bernoulli's, binomial, and Poisson distribution along with its application in python using SciPy library. "
   ]
  },
  {
   "cell_type": "code",
   "execution_count": null,
   "metadata": {
    "Collapsed": "false",
    "colab": {},
    "colab_type": "code",
    "id": "wf3Kv9z9os3v"
   },
   "outputs": [],
   "source": [
    "## Appendix"
   ]
  },
  {
   "cell_type": "markdown",
   "metadata": {
    "Collapsed": "false",
    "colab_type": "text",
    "id": "JruVcVAmgr4o"
   },
   "source": [
    "### Parameters\n",
    "\n",
    "Parameters are an important concept in statistics. Before we move on to some examples, consider these two 'text-book' definitions:\n",
    "\n",
    "    \"[A] set of facts which describes and puts limits on how something should happen or be done.\"\n",
    "*Cambridge Dictionary*\n",
    "\n",
    "    \"[A]n arbitrary constant whose value characterizes a member of a system (such as a family of curves)\"\n",
    "*Merriam Webster Dictionary*\n"
   ]
  },
  {
   "cell_type": "markdown",
   "metadata": {
    "Collapsed": "false",
    "colab_type": "text",
    "id": "nA2V--yNitXh"
   },
   "source": [
    "To visualise the concept of a parameter, let us look at a familiar example: the Gaussian. A Gaussian or normal distribution has two parameters, $\\mu$ and $\\sigma$. $\\mu$ is the mean and $\\sigma$ the standard deviation. (note that the variance is usually denoted as $\\sigma^{2}$). Let us plot a couple of Gaussians, each with a different mean and standard deviation. "
   ]
  },
  {
   "cell_type": "markdown",
   "metadata": {
    "Collapsed": "false",
    "colab_type": "text",
    "id": "3PQd2efkh-_3"
   },
   "source": [
    "### Binomial Random Variable\n",
    "\n",
    "In the previous example we had only experiment where we checked if the event was a success or failure. Consider a similar setup but here you are conducting ‘n’ such independent experiments and recording the results of every experiment.\n",
    "\n",
    "$ parameters: (n, p)$\n",
    "\n",
    "$ N:$ Number of trials/experiments\n",
    "\n",
    "$ P:$ probability of success\n",
    "\n",
    "The probability mass function of a binomial random variable having parameters (n, p) is given by\n",
    "\n",
    "$$(X = k) = \\binom{n}{k} p^{{k}} (1-p)^{n-k},$$\n",
    "\n",
    "\n",
    "where $$\\binom{n}{k} = \\frac{n!}{(n-k)! k!}.$$\n",
    "\n",
    "Here, $i$ denotes the success of the trials and $n$ the number of trials carried out. "
   ]
  },
  {
   "cell_type": "markdown",
   "metadata": {
    "Collapsed": "false",
    "colab_type": "text",
    "id": "jk_1lpTN5f9Q"
   },
   "source": [
    "#### Example 1\n",
    "\n",
    "\n",
    "\n",
    "> \"An online retailer offers next-day shipping for an extra fee. The retailer says that 95 percent of customers who pay for next-day shipping actually receive the item the next day, and those who don't are issued a refund. Suppose we take a sample of 20 next-day orders, and let X represent the number of these orders that arrive the next day. Assume that the arrival statuses of orders are independent.\" ([Retrieved from Khan Academy\n",
    "](https://www.khanacademy.org/math/ap-statistics/random-variables-ap/binomial-random-variable/e/binomial-probability))\n",
    "\n",
    "\n",
    "Thus, we are interested in:\n",
    "\n",
    "$$P(X=19).$$ \n",
    "\n",
    "We have that $n = 20$ since there are 20 trials in total and 19 successes, denoted as $k = 19$.\n",
    "\n",
    "We can plug this in into our formula and obtain\n",
    "\n",
    "$$P(X = 19) = \\binom{20}{19} p^{19} (1-p)^{20-19}.$$\n",
    "\n",
    "Furthermore, since the assumed probability of success is $0.95$, we know that $p = 0.95$ and $1 - p = 1 - 0.95 = 0.05$. Substituting that in our formula, we obtain:\n",
    "\n",
    "$$P(X = 19) = \\binom{20}{19} 0.95^{19} 0.05^{20-19}.$$ \n",
    "\n",
    "Simplifying this equation, we obtain:\n",
    "\n",
    "$$P(X = 19) = \\binom{20}{19} 0.95^{19} 0.05.$$ \n",
    "\n",
    "We can then look at the first term, $\\binom{20}{19}$, which can be rewritten as:\n",
    "\n",
    "$$\\binom{20}{19} = \\frac{20!}{(20-19)! * 19!} = \\frac{20 * 19 * 18... * 1}{(1) * (19 * 18... * 1)} = \\frac{20}{1}.$$\n",
    "\n",
    "Then, we have that:\n",
    "\n",
    "$$P(X = 19) = \\frac{20}{1} * 0.95^{19} * 0.05. = 20 * 0.377\n",
    " * 0.05 \\approx 0.377.$$ \n"
   ]
  },
  {
   "cell_type": "code",
   "execution_count": null,
   "metadata": {
    "Collapsed": "false",
    "colab": {},
    "colab_type": "code",
    "id": "Wi_mwarQExuF"
   },
   "outputs": [],
   "source": [
    "n=20\n",
    "p=0.95\n",
    "binomial = binom(n,p)\n",
    "\n",
    "x = np.arange(0,30)\n",
    "fig, ax = plt.subplots(1, 1)\n",
    "ax.plot(x, binom.pmf(x, n, p), 'bo')\n",
    "ax.vlines(x, 0, binom.pmf(x, n, p), colors='b', lw=5, alpha=0.5)"
   ]
  },
  {
   "cell_type": "markdown",
   "metadata": {
    "Collapsed": "false",
    "colab_type": "text",
    "id": "bO9Uq7ex6Vg2"
   },
   "source": [
    "#### Example 2\n",
    "\n",
    "Have seen how to use a coin flip. This process can be modeled as Bernoulli random variable. However, it may also be modeled using a Binomial. \n",
    "\n",
    "For instance, we can describe the probability of a coin landing on its head as followis.  \n",
    "\n",
    "$$P(\"Heads\") = \\frac{1}{2}.$$\n",
    "\n",
    "Now, we can determine the probability that a coin lands on its head using the Binomial formula and actually proof that this is the case (assuming we have a fair coin). Suppose that we conduct 1 trial. Then, the probability that a coin will land on its head is 0.5. Hence, $p=0.5$. \n",
    "\n",
    "Thus, \n",
    "\n",
    "$$P(X = \"Heads\") = \\binom{1}{1} 0.5^{1} (1-0.5)^{1-1}.$$\n",
    "\n",
    "This gives us, \n",
    "\n",
    "$$P(X = \"Heads\") = 1 * 0.5^{1} (1-0.5)^{1-1}.$$\n",
    "\n",
    "Since $$(1-0.5)^{1-1} = (1-0.5)^{0} = 1$$ we have,\n",
    "\n",
    "$$P(X = \"Heads\") = 0.5.$$"
   ]
  },
  {
   "cell_type": "code",
   "execution_count": null,
   "metadata": {
    "Collapsed": "false",
    "colab": {},
    "colab_type": "code",
    "id": "2Kfd2BRCFRm5"
   },
   "outputs": [],
   "source": [
    "n=1\n",
    "p=0.5\n",
    "binomial = binom(n,p)\n",
    "\n",
    "x = np.arange(0,30)\n",
    "fig, ax = plt.subplots(1, 1)\n",
    "ax.plot(x, binom.pmf(x, n, p), 'bo')\n",
    "ax.vlines(x, 0, binom.pmf(x, n, p), colors='b', lw=5, alpha=0.5)"
   ]
  },
  {
   "cell_type": "markdown",
   "metadata": {
    "Collapsed": "false",
    "colab_type": "text",
    "id": "oNxHs5fQHeMc"
   },
   "source": [
    "#### Example 3\n",
    "\n",
    "We can compute the probability of a coin landing on its head 3 times in a row as \n",
    "\n",
    "$$P(\"HHH\") = \\frac{1}{2} * \\frac{1}{2} * \\frac{1}{2} = \\left ( \\frac{1}{2} \\right )^{3} = \\frac{1}{8} = 0.125$$\n",
    "\n",
    "Again, we assume that we have a fair coin and that therefore $p=0.5$. Let us again assume that we only do one trial. Then, the probability of the coin landing on its head 3 times in a row will be:\n",
    "\n",
    "$$P(X = \"HHH\") = \\binom{3}{3} 0.5^{3} (1-0.5)^{3-3}.$$\n",
    "\n",
    "This gives us, \n",
    "\n",
    "$$P(X = \"HHH\") = 1 * 0.5^{3} (1-0.5)^{3-3}.$$\n",
    "\n",
    "Since $$(1-0.5)^{1-1} = (1-0.5)^{0} = 1$$ we have,\n",
    "\n",
    "$$P(X = \"HHH\") = 0.5^{3} = 0.125.$$\n",
    "\n"
   ]
  },
  {
   "cell_type": "code",
   "execution_count": null,
   "metadata": {
    "Collapsed": "false",
    "colab": {},
    "colab_type": "code",
    "id": "ngX2ladoLYhK"
   },
   "outputs": [],
   "source": [
    "n=3\n",
    "p=0.5\n",
    "binomial = binom(n,p)\n",
    "\n",
    "x = np.arange(0,30)\n",
    "fig, ax = plt.subplots(1, 1)\n",
    "ax.plot(x, binom.pmf(x, n, p), 'bo')\n",
    "ax.vlines(x, 0, binom.pmf(x, n, p), colors='b', lw=5, alpha=0.5)"
   ]
  },
  {
   "cell_type": "markdown",
   "metadata": {
    "Collapsed": "false",
    "colab_type": "text",
    "id": "33-hk26mMD00"
   },
   "source": [
    "#### Example 4 (Extension of Example 3)\n",
    "\n",
    "We can compute the probability of a coin landing on its head 3 times in a row as given that we perform $n$ number of trials. In example 3, we assumed that we did 3 trials. Here, however, let us assume we conduct 20 trials. Then out of the 20 trials, 3 out of 20 should have \"HHH\":\n",
    "\n",
    "$$P(X = \"HHH\") = \\binom{20}{3} 0.5^{3} (1-0.5)^{20-3}.$$\n",
    "\n",
    "This gives us, \n",
    "\n",
    "$$P(X = \"HHH\") = 1140 * 0.5^{3} * (1-0.5)^{17}.$$\n",
    "\n",
    "Thus, we have\n",
    "\n",
    "$$P(X = \"HHH\") = 1140 * 0.125 * 0.00690541387.$$\n",
    "\n",
    "This gives us,\n",
    "\n",
    "$$P(X = \"HHH\") = 1140 * 0.125 * 0.00690541387 = 0.00108718872.$$\n",
    "\n",
    "As such, the probability that the coin lands on its head 3 times in a row when we draw 100 samples is about 0.0011. \n"
   ]
  },
  {
   "cell_type": "code",
   "execution_count": null,
   "metadata": {
    "Collapsed": "false",
    "colab": {},
    "colab_type": "code",
    "id": "65mIDSYrL_zL"
   },
   "outputs": [],
   "source": [
    "n=20\n",
    "p=0.5\n",
    "binomial = binom(n,p)\n",
    "\n",
    "x = np.arange(0,100)\n",
    "fig, ax = plt.subplots(1, 1)\n",
    "ax.plot(x, binom.pmf(x, n, p), 'bo')\n",
    "ax.vlines(x, 0, binom.pmf(x, n, p), colors='b', lw=5, alpha=0.5)"
   ]
  },
  {
   "cell_type": "code",
   "execution_count": null,
   "metadata": {
    "colab": {},
    "colab_type": "code",
    "id": "LP6866Gcq0fX"
   },
   "outputs": [],
   "source": []
  },
  {
   "cell_type": "code",
   "execution_count": null,
   "metadata": {
    "colab": {},
    "colab_type": "code",
    "id": "MFxhALDGq0fZ"
   },
   "outputs": [],
   "source": []
  },
  {
   "cell_type": "code",
   "execution_count": null,
   "metadata": {},
   "outputs": [],
   "source": []
  },
  {
   "cell_type": "code",
   "execution_count": null,
   "metadata": {},
   "outputs": [],
   "source": []
  },
  {
   "cell_type": "code",
   "execution_count": null,
   "metadata": {},
   "outputs": [],
   "source": []
  },
  {
   "cell_type": "code",
   "execution_count": null,
   "metadata": {},
   "outputs": [],
   "source": []
  }
 ],
 "metadata": {
  "celltoolbar": "Slideshow",
  "colab": {
   "collapsed_sections": [],
   "name": "Discrete_Probability_Distributions.ipynb",
   "provenance": []
  },
  "kernelspec": {
   "display_name": "Python 3",
   "language": "python",
   "name": "python3"
  },
  "language_info": {
   "codemirror_mode": {
    "name": "ipython",
    "version": 3
   },
   "file_extension": ".py",
   "mimetype": "text/x-python",
   "name": "python",
   "nbconvert_exporter": "python",
   "pygments_lexer": "ipython3",
   "version": "3.8.5"
  }
 },
 "nbformat": 4,
 "nbformat_minor": 4
}
