{
 "cells": [
  {
   "cell_type": "markdown",
   "metadata": {
    "Collapsed": "false",
    "colab_type": "text",
    "id": "-nsF8MUeG8bF",
    "slideshow": {
     "slide_type": "slide"
    }
   },
   "source": [
    "# Continuous Probability Distributions"
   ]
  },
  {
   "cell_type": "markdown",
   "metadata": {
    "slideshow": {
     "slide_type": "skip"
    }
   },
   "source": [
    "## Introduction\n",
    "\n",
    "In the field of probability, a distribution function is a function that maps numerical values to probabilities. There are two types of probability distribution functions - continuous and discrete. In this lesson we will focus on continuous distributions.\n",
    "\n",
    "Continuous probability is distributed in a range. **To calculate the probability, we compute the total area under the distribution curve of the sample space.** At a given point of the curve, the area is approximately zero. It should be noted that we can convert a continuous distribution to discrete distribution by converting the smooth curve into multiple bins where each bin represents the probability value of a certain range. See image below for example: "
   ]
  },
  {
   "cell_type": "markdown",
   "metadata": {
    "slideshow": {
     "slide_type": "fragment"
    }
   },
   "source": [
    "In this lecture we will discuss:"
   ]
  },
  {
   "cell_type": "markdown",
   "metadata": {
    "slideshow": {
     "slide_type": "fragment"
    }
   },
   "source": [
    "- The basics of continuous distributions;"
   ]
  },
  {
   "cell_type": "markdown",
   "metadata": {
    "slideshow": {
     "slide_type": "fragment"
    }
   },
   "source": [
    "- A review of the cumulative distribution;"
   ]
  },
  {
   "cell_type": "markdown",
   "metadata": {
    "slideshow": {
     "slide_type": "fragment"
    }
   },
   "source": [
    "- The Gaussian, the Uniform Distribution and the Exponential Distributions."
   ]
  },
  {
   "cell_type": "markdown",
   "metadata": {
    "Collapsed": "false",
    "colab_type": "text",
    "id": "85HPRAJ23wI5",
    "slideshow": {
     "slide_type": "skip"
    }
   },
   "source": [
    "## Range and Domain\n",
    "\n",
    "Before we move on, let us have a look at two important concepts in mathematics. \n",
    "\n",
    "- **Domain**: The domain of a function is the set of values for which the function is defined.\n",
    "\n",
    "- **Range**: The set of all values a function can take. \n",
    "\n",
    "This is exemplified below:\n",
    "\n",
    "![alt text](https://s3-us-west-2.amazonaws.com/courses-images-archive-read-only/wp-content/uploads/sites/924/2015/11/25200622/CNX_Precalc_Figure_01_02_0062.jpg)"
   ]
  },
  {
   "cell_type": "markdown",
   "metadata": {
    "Collapsed": "false",
    "colab_type": "text",
    "id": "4F-QZkBJJIn1",
    "slideshow": {
     "slide_type": "skip"
    }
   },
   "source": [
    "## Continuous Random Variables\n",
    "\n",
    "Continuous distributions come from continuous random variables. For these random variables, **the set of possible values is uncountable**. They are defined by probability density functions (PDF). We say $X$ is a continuous random variable if there exists a non-negative function $f (x)$ defined for all $x ∈ B$, where $B$ is a set of [real numbers](https://en.wikipedia.org/wiki/Real_number) in  $(−\\infty,\\infty)$.\n",
    "\n",
    "$$P(X \\in B) = \\int_{B} f(x) dx.$$\n",
    "\n",
    "To explain a little deeper, let B be defined as an interval  $[a, b]$:\n",
    "\n",
    "$$P(a \\leq X \\leq b) = \\int_{b}^{a} f(x) dx.$$\n",
    "\n",
    "If we let a = b in the preceding formula, then: \n",
    "\n",
    "$$P(X = a) = \\int_{a}^{a} f(x) dx = 0.$$\n",
    "\n",
    "In words, this equation states that **the probability that a continuous random variable will assume any particular value is zero.**\n"
   ]
  },
  {
   "cell_type": "markdown",
   "metadata": {
    "Collapsed": "false",
    "colab_type": "text",
    "id": "cSZx_TzANghP",
    "slideshow": {
     "slide_type": "skip"
    }
   },
   "source": [
    "![alt text](https://work.thaslwanter.at/Stats/html/_images/PDF.png)"
   ]
  },
  {
   "cell_type": "markdown",
   "metadata": {
    "Collapsed": "false",
    "colab_type": "text",
    "id": "5ZVk3O6Y_NOV",
    "slideshow": {
     "slide_type": "skip"
    }
   },
   "source": [
    "## Cumulative Distribution Function"
   ]
  },
  {
   "cell_type": "markdown",
   "metadata": {
    "Collapsed": "false",
    "colab_type": "text",
    "id": "eTXSgBC1_H0A",
    "slideshow": {
     "slide_type": "skip"
    }
   },
   "source": [
    "\n",
    "\n",
    "Recall the following example from a previous lecture:\n",
    "\n",
    "*   $P(X = 1) = 1/6$\n",
    "*   $P(X = 2) = 1/6$\n",
    "*   $P(X = 3) = 1/6$\n",
    "*   $P(X = 4) = 1/6$\n",
    "*   $P(X = 5) = 1/6$\n",
    "*   $P(X = 6) = 1/6$\n",
    "\n",
    "As discussed before, this table outlines the probability of throwing a particular number using a fair dice. Now suppose we are playing a board game and that we are not interested in the probability of throwing any of the numbers above, but only about the probability that we throw above (or below a certain number). We can define this as:\n",
    "\n",
    "$$F(A) = P(X \\leq x),$$\n",
    "\n",
    "where $x$ is a particular number. Then, the cumulative probability as defined here gives the probability that the random variable is less than or equal to $x$. \n",
    "\n",
    "The cumulative probability distribution can then be defined as follows:\n",
    "\n",
    "*   $P(X \\leq 1) = 1/6$\n",
    "*   $P(X \\leq 2) = 2/6$\n",
    "*   $P(X \\leq 3) = 3/6$\n",
    "*   $P(X \\leq 4) = 4/6$\n",
    "*   $P(X \\leq 5) = 5/6$\n",
    "*   $P(X \\leq 6) = 6/6$\n",
    "\n",
    "\n"
   ]
  },
  {
   "cell_type": "markdown",
   "metadata": {
    "Collapsed": "false",
    "colab_type": "text",
    "id": "o31rFnizKpWR",
    "slideshow": {
     "slide_type": "skip"
    }
   },
   "source": [
    "### Cumulative Distribution Formal Defintion\n",
    "\n",
    "A cumulative distribution is defined as: \n",
    "\n",
    "$$F(A) = P(X \\in (-\\infty, a]) = \\int_{-\\infty}^{a} f(x) dx.$$\n",
    "\n",
    "Some important properties of CDF are as follows:\n",
    "\n",
    "- It is a continuously increasing function (non-decreasing);\n",
    "- Range of values lies between [0,1];\n",
    "- Differentiating CDF gives PDF.\n",
    "\n"
   ]
  },
  {
   "cell_type": "markdown",
   "metadata": {
    "Collapsed": "false",
    "colab_type": "text",
    "id": "tX0CUoHj8xFF",
    "slideshow": {
     "slide_type": "skip"
    }
   },
   "source": [
    "![alt text](http://work.thaslwanter.at/Stats/html/_images/PDF_CDF.png)"
   ]
  },
  {
   "cell_type": "markdown",
   "metadata": {
    "Collapsed": "false",
    "colab_type": "text",
    "id": "hgnutviTLasr",
    "slideshow": {
     "slide_type": "skip"
    }
   },
   "source": [
    "## Common Continuous Distributions\n",
    "\n",
    "Now we will discuss some common types of continuous distributions.\n"
   ]
  },
  {
   "cell_type": "markdown",
   "metadata": {
    "Collapsed": "false",
    "colab_type": "text",
    "id": "EWPAUkD_LhyF",
    "slideshow": {
     "slide_type": "skip"
    }
   },
   "source": [
    "### Uniform Distribution\n",
    "\n",
    "Uniform distribution is defined by the following function:\n",
    "\n",
    "$$f(x)=\n",
    "    \\begin{cases}\n",
    "      1, & \\text{if}\\ 0 < x < 1 \\\\\n",
    "      0, & \\text{otherwise}\n",
    "    \\end{cases}$$\n",
    "\n",
    "A more general definition is given as follows where x is not just restricted between 0 and 1:\n",
    "\n",
    "$$f(x)=\n",
    "    \\begin{cases}\n",
    "      \\frac{1}{\\beta - \\alpha}, & \\text{if}\\ \\alpha < x < \\beta \\\\\n",
    "      0, & \\text{otherwise}\n",
    "    \\end{cases}$$\n",
    "\n",
    "*Note: The range of values on which the function is defined is called the domain whereas the values of the function mapped to the domain is called range.*"
   ]
  },
  {
   "cell_type": "markdown",
   "metadata": {
    "Collapsed": "false",
    "colab_type": "text",
    "id": "KYgvDIl-ObBY",
    "slideshow": {
     "slide_type": "skip"
    }
   },
   "source": [
    "- Domain for x is  (-∞, ∞)\n",
    "- Range is 0, 1\n",
    "- Parameters: a, b\n",
    "\n",
    "**One of the most common applications of uniform numbers is to generate random numbers without any bias.** The probability of obtaining an unbiased random number in the range (a,b) is always constant.\n",
    "\n",
    "*NOTE: The uniform distribution can also be discrete. Consider the example of rolling a die. Probability of each event happening is the same (1/6).*\n",
    "\n",
    "Standard Uniform Distribution in Python code example:"
   ]
  },
  {
   "cell_type": "markdown",
   "metadata": {
    "slideshow": {
     "slide_type": "slide"
    }
   },
   "source": [
    "The easiest way to understand what a continuous random variable is, is by comparing it to a discrete random variable"
   ]
  },
  {
   "cell_type": "markdown",
   "metadata": {
    "slideshow": {
     "slide_type": "fragment"
    }
   },
   "source": [
    "In a way, a continuous random variable is a functions that quite literally **continues**. "
   ]
  },
  {
   "cell_type": "markdown",
   "metadata": {
    "slideshow": {
     "slide_type": "fragment"
    }
   },
   "source": [
    "In other words, there is no \"*break*\" between the outcome values.  "
   ]
  },
  {
   "cell_type": "markdown",
   "metadata": {
    "slideshow": {
     "slide_type": "slide"
    }
   },
   "source": [
    "We can also create our own discrete and continuous functions in Python. Let's do so!"
   ]
  },
  {
   "cell_type": "code",
   "execution_count": 73,
   "metadata": {
    "slideshow": {
     "slide_type": "slide"
    }
   },
   "outputs": [],
   "source": [
    "import numpy as np"
   ]
  },
  {
   "cell_type": "code",
   "execution_count": 74,
   "metadata": {
    "slideshow": {
     "slide_type": "fragment"
    }
   },
   "outputs": [],
   "source": [
    "def discrete_funct(x):\n",
    "    if x > 1:\n",
    "        return True\n",
    "    else:\n",
    "        return False"
   ]
  },
  {
   "cell_type": "code",
   "execution_count": 78,
   "metadata": {
    "slideshow": {
     "slide_type": "fragment"
    }
   },
   "outputs": [
    {
     "data": {
      "text/plain": [
       "True"
      ]
     },
     "execution_count": 78,
     "metadata": {},
     "output_type": "execute_result"
    }
   ],
   "source": [
    "discrete_funct(1099999999999994228)"
   ]
  },
  {
   "cell_type": "code",
   "execution_count": 79,
   "metadata": {
    "slideshow": {
     "slide_type": "slide"
    }
   },
   "outputs": [],
   "source": [
    "def continuous_funct(x):\n",
    "    if x > 1:\n",
    "        return x / 10\n",
    "    else:\n",
    "        return x * 10"
   ]
  },
  {
   "cell_type": "code",
   "execution_count": 80,
   "metadata": {
    "slideshow": {
     "slide_type": "fragment"
    }
   },
   "outputs": [
    {
     "data": {
      "text/plain": [
       "1.0"
      ]
     },
     "execution_count": 80,
     "metadata": {},
     "output_type": "execute_result"
    }
   ],
   "source": [
    "continuous_funct(10)"
   ]
  },
  {
   "cell_type": "markdown",
   "metadata": {
    "slideshow": {
     "slide_type": "slide"
    }
   },
   "source": [
    "Let us now make a loop and see how the output differs per function. "
   ]
  },
  {
   "cell_type": "code",
   "execution_count": 81,
   "metadata": {
    "slideshow": {
     "slide_type": "fragment"
    }
   },
   "outputs": [
    {
     "name": "stdout",
     "output_type": "stream",
     "text": [
      "False\n",
      "False\n",
      "False\n",
      "False\n",
      "False\n",
      "False\n",
      "False\n",
      "False\n",
      "False\n",
      "False\n",
      "True\n",
      "True\n",
      "True\n",
      "True\n"
     ]
    }
   ],
   "source": [
    "# Loop for discrete.\n",
    "for element in np.arange(0, 1.5, 0.1111111):\n",
    "    print(discrete_funct(element)) "
   ]
  },
  {
   "cell_type": "code",
   "execution_count": 82,
   "metadata": {
    "slideshow": {
     "slide_type": "slide"
    }
   },
   "outputs": [
    {
     "name": "stdout",
     "output_type": "stream",
     "text": [
      "0.0\n",
      "1.111111\n",
      "2.222222\n",
      "3.333333\n",
      "4.444444\n",
      "5.555555\n",
      "6.666666\n",
      "7.777777\n",
      "8.888888\n",
      "9.999999\n",
      "0.11111109999999999\n",
      "0.12222221\n",
      "0.13333332\n",
      "0.14444443\n"
     ]
    }
   ],
   "source": [
    "# Loop for continuous\n",
    "for element in np.arange(0, 1.5, 0.1111111):\n",
    "    print(continuous_funct(element))\n",
    "    \n",
    "    \n",
    "#for element in np.arange(0, 100000.81, 10000.9):\n",
    "#    print(continuous_funct(element))\n",
    "    \n",
    "#for element in np.arange(0, 100000.81, 10000.9):\n",
    "#    print(discrete_funct(element))"
   ]
  },
  {
   "cell_type": "code",
   "execution_count": 83,
   "metadata": {},
   "outputs": [
    {
     "data": {
      "text/plain": [
       "array([0.       , 0.1111111, 0.2222222, 0.3333333, 0.4444444, 0.5555555,\n",
       "       0.6666666, 0.7777777, 0.8888888, 0.9999999, 1.111111 , 1.2222221,\n",
       "       1.3333332, 1.4444443])"
      ]
     },
     "execution_count": 83,
     "metadata": {},
     "output_type": "execute_result"
    }
   ],
   "source": [
    "np.arange(0, 1.5, 0.1111111)"
   ]
  },
  {
   "cell_type": "markdown",
   "metadata": {
    "slideshow": {
     "slide_type": "slide"
    }
   },
   "source": [
    "# Practical part\n",
    "\n",
    "## The Gaussian "
   ]
  },
  {
   "cell_type": "markdown",
   "metadata": {
    "slideshow": {
     "slide_type": "fragment"
    }
   },
   "source": [
    "We all know the normal distribution. When can you expect to find or use this distribution?"
   ]
  },
  {
   "cell_type": "markdown",
   "metadata": {
    "slideshow": {
     "slide_type": "fragment"
    }
   },
   "source": [
    "- In any textbook on statistics and machine learning..."
   ]
  },
  {
   "cell_type": "markdown",
   "metadata": {
    "slideshow": {
     "slide_type": "fragment"
    }
   },
   "source": [
    "- IQ scores;"
   ]
  },
  {
   "cell_type": "markdown",
   "metadata": {
    "slideshow": {
     "slide_type": "fragment"
    }
   },
   "source": [
    "- Blood pressure measurements;"
   ]
  },
  {
   "cell_type": "markdown",
   "metadata": {
    "slideshow": {
     "slide_type": "fragment"
    }
   },
   "source": [
    "- Salaries;"
   ]
  },
  {
   "cell_type": "markdown",
   "metadata": {
    "slideshow": {
     "slide_type": "fragment"
    }
   },
   "source": [
    "- Delivery times;"
   ]
  },
  {
   "cell_type": "markdown",
   "metadata": {
    "slideshow": {
     "slide_type": "slide"
    }
   },
   "source": [
    "- Weights of groups of people."
   ]
  },
  {
   "cell_type": "markdown",
   "metadata": {
    "slideshow": {
     "slide_type": "slide"
    }
   },
   "source": [
    "Let us now review the the Python implementation by first importing the necessary libraries. "
   ]
  },
  {
   "cell_type": "markdown",
   "metadata": {
    "colab_type": "text",
    "id": "UiwgPG5Jq0eC"
   },
   "source": [
    "### The Gaussian or normal distribution"
   ]
  },
  {
   "cell_type": "markdown",
   "metadata": {
    "colab_type": "text",
    "id": "-7l5-Ppcq0eD"
   },
   "source": [
    "First of all, we'll examine a probability distribution we should all be familiar with by now: the normal distribution or Gaussian. "
   ]
  },
  {
   "cell_type": "markdown",
   "metadata": {
    "colab_type": "text",
    "id": "zZvOzMquq0eD"
   },
   "source": [
    "Let us first import the necessary libraries. "
   ]
  },
  {
   "cell_type": "code",
   "execution_count": 84,
   "metadata": {
    "colab": {},
    "colab_type": "code",
    "id": "R0D-T_e5q0eE"
   },
   "outputs": [],
   "source": [
    "import numpy as np\n",
    "import seaborn as sns\n",
    "import pandas as pd\n",
    "from scipy.stats import norm "
   ]
  },
  {
   "cell_type": "markdown",
   "metadata": {
    "colab_type": "text",
    "id": "nXyv7pNdq0eH"
   },
   "source": [
    "Let us now generate a Gaussian. The only thing we'll need for that are the two parameters that characterize the Gaussian. These are:"
   ]
  },
  {
   "cell_type": "markdown",
   "metadata": {
    "colab_type": "text",
    "id": "2_V7tfpjq0eH"
   },
   "source": [
    "1. The **mean**;"
   ]
  },
  {
   "cell_type": "markdown",
   "metadata": {
    "colab_type": "text",
    "id": "6NcXnOMeq0eI"
   },
   "source": [
    "2. The **standard deviation**. "
   ]
  },
  {
   "cell_type": "code",
   "execution_count": 85,
   "metadata": {
    "Collapsed": "false",
    "colab": {},
    "colab_type": "code",
    "id": "nZpSlLQliVrK"
   },
   "outputs": [],
   "source": [
    "# loc = mean\n",
    "# scale = stdev\n",
    "# size = # of data points\n",
    "#gaussian = np.random.normal(loc=0, scale=1, size=1000)\n",
    "gaussian = norm.rvs(loc=0, scale=1, size=1000)"
   ]
  },
  {
   "cell_type": "code",
   "execution_count": 86,
   "metadata": {
    "colab": {},
    "colab_type": "code",
    "id": "XqawvyXjq0eL",
    "outputId": "a01d9f55-deef-4d32-9498-a77fb0a9b980"
   },
   "outputs": [
    {
     "data": {
      "text/html": [
       "<div>\n",
       "<style scoped>\n",
       "    .dataframe tbody tr th:only-of-type {\n",
       "        vertical-align: middle;\n",
       "    }\n",
       "\n",
       "    .dataframe tbody tr th {\n",
       "        vertical-align: top;\n",
       "    }\n",
       "\n",
       "    .dataframe thead th {\n",
       "        text-align: right;\n",
       "    }\n",
       "</style>\n",
       "<table border=\"1\" class=\"dataframe\">\n",
       "  <thead>\n",
       "    <tr style=\"text-align: right;\">\n",
       "      <th></th>\n",
       "      <th>Gaussian</th>\n",
       "    </tr>\n",
       "  </thead>\n",
       "  <tbody>\n",
       "    <tr>\n",
       "      <td>0</td>\n",
       "      <td>-1.792196</td>\n",
       "    </tr>\n",
       "    <tr>\n",
       "      <td>1</td>\n",
       "      <td>-1.142852</td>\n",
       "    </tr>\n",
       "    <tr>\n",
       "      <td>2</td>\n",
       "      <td>1.348742</td>\n",
       "    </tr>\n",
       "    <tr>\n",
       "      <td>3</td>\n",
       "      <td>-0.300929</td>\n",
       "    </tr>\n",
       "    <tr>\n",
       "      <td>4</td>\n",
       "      <td>-1.039611</td>\n",
       "    </tr>\n",
       "    <tr>\n",
       "      <td>...</td>\n",
       "      <td>...</td>\n",
       "    </tr>\n",
       "    <tr>\n",
       "      <td>995</td>\n",
       "      <td>-0.520805</td>\n",
       "    </tr>\n",
       "    <tr>\n",
       "      <td>996</td>\n",
       "      <td>0.121561</td>\n",
       "    </tr>\n",
       "    <tr>\n",
       "      <td>997</td>\n",
       "      <td>0.123011</td>\n",
       "    </tr>\n",
       "    <tr>\n",
       "      <td>998</td>\n",
       "      <td>0.030815</td>\n",
       "    </tr>\n",
       "    <tr>\n",
       "      <td>999</td>\n",
       "      <td>0.764256</td>\n",
       "    </tr>\n",
       "  </tbody>\n",
       "</table>\n",
       "<p>1000 rows × 1 columns</p>\n",
       "</div>"
      ],
      "text/plain": [
       "     Gaussian\n",
       "0   -1.792196\n",
       "1   -1.142852\n",
       "2    1.348742\n",
       "3   -0.300929\n",
       "4   -1.039611\n",
       "..        ...\n",
       "995 -0.520805\n",
       "996  0.121561\n",
       "997  0.123011\n",
       "998  0.030815\n",
       "999  0.764256\n",
       "\n",
       "[1000 rows x 1 columns]"
      ]
     },
     "execution_count": 86,
     "metadata": {},
     "output_type": "execute_result"
    }
   ],
   "source": [
    "gauss_values = pd.DataFrame(gaussian, columns = ['Gaussian'])\n",
    "gauss_values"
   ]
  },
  {
   "cell_type": "code",
   "execution_count": 87,
   "metadata": {
    "colab": {},
    "colab_type": "code",
    "id": "YT_UkV5tq0eN",
    "outputId": "b855f41d-1ccc-456b-fd06-1258495b1371"
   },
   "outputs": [
    {
     "name": "stdout",
     "output_type": "stream",
     "text": [
      "Mean: Gaussian   -0.00818\n",
      "dtype: float64\n",
      "\n",
      "\n",
      "Stdev: Gaussian    0.971357\n",
      "dtype: float64\n"
     ]
    }
   ],
   "source": [
    "print('Mean:', gauss_values.mean())\n",
    "print('\\n')\n",
    "print('Stdev:', gauss_values.std())"
   ]
  },
  {
   "cell_type": "code",
   "execution_count": 88,
   "metadata": {
    "colab": {},
    "colab_type": "code",
    "id": "hxNX-YTaq0eP",
    "outputId": "e97fd6a3-5768-4a06-a51a-31415a26c601"
   },
   "outputs": [
    {
     "data": {
      "text/plain": [
       "<matplotlib.axes._subplots.AxesSubplot at 0x7f8d07b32250>"
      ]
     },
     "execution_count": 88,
     "metadata": {},
     "output_type": "execute_result"
    },
    {
     "data": {
      "image/png": "[encoded data removed]",
      "text/plain": [
       "<Figure size 432x288 with 1 Axes>"
      ]
     },
     "metadata": {
      "needs_background": "light"
     },
     "output_type": "display_data"
    }
   ],
   "source": [
    "# number of bins check\n",
    "sns.distplot(gauss_values, kde=False)"
   ]
  },
  {
   "cell_type": "markdown",
   "metadata": {
    "colab_type": "text",
    "id": "SqueB4B4q0eR"
   },
   "source": [
    "This is an example of a standard normal curve. However, we can model many bell-shaped distributions this way. "
   ]
  },
  {
   "cell_type": "markdown",
   "metadata": {
    "colab_type": "text",
    "id": "aO-HSq9sq0eR"
   },
   "source": [
    "Take for instance IQ. IQ is normally distributed. The mean is 100 and the standard deviation is 15. Let's draw data points and plot the distribution. "
   ]
  },
  {
   "cell_type": "code",
   "execution_count": 89,
   "metadata": {
    "Collapsed": "false",
    "colab": {
     "base_uri": "https://localhost:8080/",
     "height": 282
    },
    "colab_type": "code",
    "executionInfo": {
     "elapsed": 775,
     "status": "ok",
     "timestamp": 1585072332926,
     "user": {
      "displayName": "Louk Smalbil",
      "photoUrl": "https://lh3.googleusercontent.com/a-/AOh14GiByqcfGW98Bn42uapsD4oj4auyrLV9xURPKHUj=s64",
      "userId": "10422991521784029462"
     },
     "user_tz": -60
    },
    "id": "jTjnw2tDilgl",
    "outputId": "8e85e68c-6895-44d1-ca5f-b23373766886"
   },
   "outputs": [
    {
     "data": {
      "text/plain": [
       "<matplotlib.axes._subplots.AxesSubplot at 0x7f8d07ba7a50>"
      ]
     },
     "execution_count": 89,
     "metadata": {},
     "output_type": "execute_result"
    },
    {
     "data": {
      "image/png": "[encoded data removed]",
      "text/plain": [
       "<Figure size 432x288 with 1 Axes>"
      ]
     },
     "metadata": {
      "needs_background": "light"
     },
     "output_type": "display_data"
    }
   ],
   "source": [
    "gaussian = norm.rvs(loc=100, scale=15, size=1000)\n",
    "sns.distplot(gaussian, kde=False)"
   ]
  },
  {
   "cell_type": "markdown",
   "metadata": {
    "colab_type": "text",
    "id": "hW-r84iJq0eU"
   },
   "source": [
    "### Probability Mass Function : Cumulative density function\n"
   ]
  },
  {
   "cell_type": "markdown",
   "metadata": {
    "colab_type": "text",
    "id": "ECqM3BvUq0eU"
   },
   "source": [
    "The probability mass function (PMF) is a function for a discrete random variable that allows us to express the entire distribution as one single function. \n"
   ]
  },
  {
   "cell_type": "markdown",
   "metadata": {
    "colab_type": "text",
    "id": "8waS-Rlmq0eU"
   },
   "source": [
    "The math can become quite complicated, but the idea is simple. Let us look at a visualization."
   ]
  },
  {
   "cell_type": "code",
   "execution_count": 90,
   "metadata": {
    "colab": {},
    "colab_type": "code",
    "id": "X2eZxkqMq0eV",
    "outputId": "6ae78938-e587-41e4-a054-a6edcd3d6d5c"
   },
   "outputs": [
    {
     "data": {
      "text/plain": [
       "<matplotlib.axes._subplots.AxesSubplot at 0x7f8d07bfdd10>"
      ]
     },
     "execution_count": 90,
     "metadata": {},
     "output_type": "execute_result"
    },
    {
     "data": {
      "image/png": "[encoded data removed]",
      "text/plain": [
       "<Figure size 432x288 with 1 Axes>"
      ]
     },
     "metadata": {
      "needs_background": "light"
     },
     "output_type": "display_data"
    }
   ],
   "source": [
    "gaussian = norm.rvs(loc=100, scale=15, size=1000)\n",
    "sns.distplot(gaussian, kde=True) "
   ]
  },
  {
   "cell_type": "markdown",
   "metadata": {
    "colab_type": "text",
    "id": "baqYDzv_q0eX"
   },
   "source": [
    "As can be seen, the blue line is a function that \"captures\" the entire distribution. In a way, it is a model of the distribution for IQ. "
   ]
  },
  {
   "cell_type": "markdown",
   "metadata": {
    "colab_type": "text",
    "id": "v5jKrwaTq0eX"
   },
   "source": [
    "**Important:** The area under the curve (blue line) is 1, since it captures 100 percent of the data. "
   ]
  },
  {
   "cell_type": "markdown",
   "metadata": {
    "colab_type": "text",
    "id": "A-xyPGglq0eX"
   },
   "source": [
    "Suppose that we now want to know what percentage of people have an IQ of lower than 120. Let us examine the plot again. "
   ]
  },
  {
   "cell_type": "code",
   "execution_count": 91,
   "metadata": {
    "colab": {},
    "colab_type": "code",
    "id": "5OML85UNq0eY",
    "outputId": "cf981db6-14ec-4e50-e3a7-c8d4b7d7a4de"
   },
   "outputs": [
    {
     "data": {
      "text/plain": [
       "<matplotlib.axes._subplots.AxesSubplot at 0x7f8d07c01190>"
      ]
     },
     "execution_count": 91,
     "metadata": {},
     "output_type": "execute_result"
    },
    {
     "data": {
      "image/png": "[encoded data removed]",
      "text/plain": [
       "<Figure size 432x288 with 1 Axes>"
      ]
     },
     "metadata": {
      "needs_background": "light"
     },
     "output_type": "display_data"
    }
   ],
   "source": [
    "sns.distplot(gaussian, kde=True)"
   ]
  },
  {
   "cell_type": "markdown",
   "metadata": {
    "colab_type": "text",
    "id": "q61N2AC3q0ea"
   },
   "source": [
    "One way to determine this number is by looking at how many data points there are at 120 -. However, a better way would be to compute this number using our probability mass function."
   ]
  },
  {
   "cell_type": "markdown",
   "metadata": {
    "colab_type": "text",
    "id": "6SmYB-Zdq0eb"
   },
   "source": [
    "If we want to compute the probability of people with an IQ of lower than 120, we can use the stats.cdf function where cdf stands for **cumulative density function.** "
   ]
  },
  {
   "cell_type": "code",
   "execution_count": 92,
   "metadata": {
    "colab": {},
    "colab_type": "code",
    "id": "HDRb6ZC7q0eb",
    "outputId": "e86cd83e-180e-44d8-f6eb-abe198459397"
   },
   "outputs": [
    {
     "data": {
      "text/plain": [
       "0.9087887802741321"
      ]
     },
     "execution_count": 92,
     "metadata": {},
     "output_type": "execute_result"
    }
   ],
   "source": [
    "# loc = mean\n",
    "# scale = stdev\n",
    "# size = # of data points\n",
    "mu = 100\n",
    "sigma = 15\n",
    "\n",
    "norm.cdf(120,loc=mu,scale=sigma) "
   ]
  },
  {
   "cell_type": "markdown",
   "metadata": {},
   "source": [
    "## Note that the code above states for the possibility of an extra observation being \"Lower than X\"\n",
    "Therefore it makes sense that assuming we think that is following a normal distribution, then we will expect 50% probability of that new observation being below the average."
   ]
  },
  {
   "cell_type": "code",
   "execution_count": 93,
   "metadata": {},
   "outputs": [
    {
     "data": {
      "text/plain": [
       "0.5"
      ]
     },
     "execution_count": 93,
     "metadata": {},
     "output_type": "execute_result"
    }
   ],
   "source": [
    "norm.cdf(100,loc=mu,scale=sigma) "
   ]
  },
  {
   "cell_type": "code",
   "execution_count": 94,
   "metadata": {
    "colab": {},
    "colab_type": "code",
    "id": "nW-z6Yz7q0ed",
    "outputId": "1cdad097-7c6f-4eb3-bbb0-8e72a14c1b8c"
   },
   "outputs": [
    {
     "data": {
      "text/plain": [
       "<matplotlib.axes._subplots.AxesSubplot at 0x7f8d07d98d50>"
      ]
     },
     "execution_count": 94,
     "metadata": {},
     "output_type": "execute_result"
    },
    {
     "data": {
      "image/png": "[encoded data removed]",
      "text/plain": [
       "<Figure size 432x288 with 1 Axes>"
      ]
     },
     "metadata": {
      "needs_background": "light"
     },
     "output_type": "display_data"
    }
   ],
   "source": [
    "sns.distplot(gaussian, kde=True)"
   ]
  },
  {
   "cell_type": "markdown",
   "metadata": {
    "colab_type": "text",
    "id": "hkiHXzIlq0eg"
   },
   "source": [
    "Now suppose that we want to find the percentage of people with an IQ of between 128 and 142. Again, we could read this off of the plot. However, to get a more precise number, we can also use the following:"
   ]
  },
  {
   "cell_type": "code",
   "execution_count": 95,
   "metadata": {
    "colab": {},
    "colab_type": "code",
    "id": "NYSu5fMHq0eg",
    "outputId": "55abbc96-b943-4e36-d236-20a30efa3c3d"
   },
   "outputs": [
    {
     "data": {
      "text/plain": [
       "0.02841894537631262"
      ]
     },
     "execution_count": 95,
     "metadata": {},
     "output_type": "execute_result"
    }
   ],
   "source": [
    "norm.cdf(142,loc=mu,scale=sigma) - norm.cdf(128,loc=mu,scale=sigma) "
   ]
  },
  {
   "cell_type": "markdown",
   "metadata": {
    "colab_type": "text",
    "id": "rraPftoFq0ei"
   },
   "source": [
    "Lastly, if we want the exact percentage of people with an IQ of 120, we can use the following method. "
   ]
  },
  {
   "cell_type": "code",
   "execution_count": 96,
   "metadata": {
    "colab": {},
    "colab_type": "code",
    "id": "nND7Lzryq0ei",
    "outputId": "8319fa38-a30b-43da-979b-d3f9e3552afb"
   },
   "outputs": [
    {
     "data": {
      "text/plain": [
       "0.010934004978399577"
      ]
     },
     "execution_count": 96,
     "metadata": {},
     "output_type": "execute_result"
    }
   ],
   "source": [
    "norm.pdf(120, loc=mu,scale=sigma)"
   ]
  },
  {
   "cell_type": "markdown",
   "metadata": {},
   "source": [
    "## See that the difference between this and what we did before is that before we were calculating accumulative density whereas now we calculate exact probability that a value will occur"
   ]
  },
  {
   "cell_type": "code",
   "execution_count": 97,
   "metadata": {},
   "outputs": [
    {
     "data": {
      "text/plain": [
       "0.0035206532676429953"
      ]
     },
     "execution_count": 97,
     "metadata": {},
     "output_type": "execute_result"
    }
   ],
   "source": [
    "mu = 1000\n",
    "sigma = 100\n",
    "\n",
    "norm.pdf(1050, loc=mu,scale=sigma)"
   ]
  },
  {
   "cell_type": "code",
   "execution_count": 98,
   "metadata": {},
   "outputs": [
    {
     "data": {
      "text/plain": [
       "0.0035206532676429953"
      ]
     },
     "execution_count": 98,
     "metadata": {},
     "output_type": "execute_result"
    }
   ],
   "source": [
    "norm.pdf(950, loc=mu,scale=sigma)"
   ]
  },
  {
   "cell_type": "markdown",
   "metadata": {},
   "source": [
    "## CDF captures the probability of the observation being lower than X"
   ]
  },
  {
   "cell_type": "code",
   "execution_count": 99,
   "metadata": {},
   "outputs": [
    {
     "data": {
      "text/plain": [
       "0.6914624612740131"
      ]
     },
     "execution_count": 99,
     "metadata": {},
     "output_type": "execute_result"
    }
   ],
   "source": [
    "norm.cdf(1050, loc=mu,scale=sigma)"
   ]
  },
  {
   "cell_type": "code",
   "execution_count": 100,
   "metadata": {},
   "outputs": [
    {
     "data": {
      "text/plain": [
       "0.3085375387259869"
      ]
     },
     "execution_count": 100,
     "metadata": {},
     "output_type": "execute_result"
    }
   ],
   "source": [
    "norm.cdf(950, loc=mu,scale=sigma)"
   ]
  },
  {
   "cell_type": "code",
   "execution_count": 101,
   "metadata": {},
   "outputs": [
    {
     "data": {
      "text/plain": [
       "0.6914624612740131"
      ]
     },
     "execution_count": 101,
     "metadata": {},
     "output_type": "execute_result"
    }
   ],
   "source": [
    "1-norm.cdf(950, loc=mu,scale=sigma)"
   ]
  },
  {
   "cell_type": "markdown",
   "metadata": {
    "colab": {},
    "colab_type": "code",
    "id": "xJrg1ywOq0el",
    "outputId": "6ddaee55-3d01-495d-8dd0-756da1034946"
   },
   "source": [
    "## Let's test the 68-95-99 rule :D"
   ]
  },
  {
   "cell_type": "code",
   "execution_count": 102,
   "metadata": {},
   "outputs": [
    {
     "data": {
      "text/plain": [
       "<matplotlib.axes._subplots.AxesSubplot at 0x7f8d08001390>"
      ]
     },
     "execution_count": 102,
     "metadata": {},
     "output_type": "execute_result"
    },
    {
     "data": {
      "image/png": "[encoded data removed]",
      "text/plain": [
       "<Figure size 432x288 with 1 Axes>"
      ]
     },
     "metadata": {
      "needs_background": "light"
     },
     "output_type": "display_data"
    }
   ],
   "source": [
    "gaussian = norm.rvs(loc=100, scale=15, size=1000)\n",
    "sns.distplot(gaussian, kde=True) "
   ]
  },
  {
   "cell_type": "code",
   "execution_count": 103,
   "metadata": {},
   "outputs": [
    {
     "data": {
      "text/plain": [
       "0.15865525393145707"
      ]
     },
     "execution_count": 103,
     "metadata": {},
     "output_type": "execute_result"
    }
   ],
   "source": [
    "whatihaveontheleftside=norm.cdf(85, loc=100,scale=15)\n",
    "whatihaveontheleftside"
   ]
  },
  {
   "cell_type": "code",
   "execution_count": 104,
   "metadata": {},
   "outputs": [
    {
     "data": {
      "text/plain": [
       "0.15865525393145707"
      ]
     },
     "execution_count": 104,
     "metadata": {},
     "output_type": "execute_result"
    }
   ],
   "source": [
    "whatihaveontherightside=1-norm.cdf(115, loc=100,scale=15)\n",
    "whatihaveontherightside"
   ]
  },
  {
   "cell_type": "code",
   "execution_count": 105,
   "metadata": {},
   "outputs": [
    {
     "data": {
      "text/plain": [
       "0.6826894921370859"
      ]
     },
     "execution_count": 105,
     "metadata": {},
     "output_type": "execute_result"
    }
   ],
   "source": [
    "1-whatihaveontheleftside-whatihaveontherightside"
   ]
  },
  {
   "cell_type": "code",
   "execution_count": null,
   "metadata": {
    "slideshow": {
     "slide_type": "fragment"
    }
   },
   "outputs": [],
   "source": [
    "import math\n",
    "from scipy.stats import norm\n",
    "import matplotlib.pyplot as plt"
   ]
  },
  {
   "cell_type": "markdown",
   "metadata": {
    "slideshow": {
     "slide_type": "slide"
    }
   },
   "source": [
    "### Recapping on Gaussian / normal distributions. Visual Example"
   ]
  },
  {
   "cell_type": "code",
   "execution_count": 106,
   "metadata": {
    "slideshow": {
     "slide_type": "slide"
    }
   },
   "outputs": [
    {
     "data": {
      "image/png": "[encoded data removed]",
      "text/plain": [
       "<Figure size 432x288 with 1 Axes>"
      ]
     },
     "metadata": {
      "needs_background": "light"
     },
     "output_type": "display_data"
    }
   ],
   "source": [
    "normal = norm(loc = 0, scale = 1) \n",
    "fig, ax = plt.subplots(1, 1)\n",
    "x = np.linspace(-3,3,1000)        # Return evenly spaced numbers over a specified interval.\n",
    "y = norm.pdf(x)\n",
    "ax.plot(x,y)\n",
    "plt.show()"
   ]
  },
  {
   "cell_type": "markdown",
   "metadata": {
    "slideshow": {
     "slide_type": "slide"
    }
   },
   "source": [
    "### Obtain the probability at a given point"
   ]
  },
  {
   "cell_type": "code",
   "execution_count": 107,
   "metadata": {
    "slideshow": {
     "slide_type": "fragment"
    }
   },
   "outputs": [
    {
     "name": "stdout",
     "output_type": "stream",
     "text": [
      "0.24197072451914337\n"
     ]
    }
   ],
   "source": [
    "# Print the probabiliy of 1\n",
    "print(normal.pdf(1))"
   ]
  },
  {
   "cell_type": "code",
   "execution_count": 110,
   "metadata": {
    "slideshow": {
     "slide_type": "fragment"
    }
   },
   "outputs": [
    {
     "data": {
      "image/png": "[encoded data removed]",
      "text/plain": [
       "<Figure size 432x288 with 1 Axes>"
      ]
     },
     "metadata": {
      "needs_background": "light"
     },
     "output_type": "display_data"
    }
   ],
   "source": [
    "normal = norm(loc = 0, scale = 1) \n",
    "fig, ax = plt.subplots(1, 1)\n",
    "x = np.linspace(-3,3,1000)        # Return evenly spaced numbers over a specified interval.\n",
    "y = norm.pdf(x)\n",
    "ax.plot(x,y)\n",
    "plt.show()"
   ]
  },
  {
   "cell_type": "markdown",
   "metadata": {
    "slideshow": {
     "slide_type": "slide"
    }
   },
   "source": [
    "### Obtain the cumulative probability at a given point"
   ]
  },
  {
   "cell_type": "code",
   "execution_count": 111,
   "metadata": {
    "slideshow": {
     "slide_type": "fragment"
    }
   },
   "outputs": [
    {
     "name": "stdout",
     "output_type": "stream",
     "text": [
      "0.8413447460685429\n"
     ]
    }
   ],
   "source": [
    "# Print the probability that X \\leq 1\n",
    "print(normal.cdf(1))  "
   ]
  },
  {
   "cell_type": "code",
   "execution_count": 112,
   "metadata": {
    "slideshow": {
     "slide_type": "fragment"
    }
   },
   "outputs": [
    {
     "data": {
      "image/png": "[encoded data removed]",
      "text/plain": [
       "<Figure size 432x288 with 1 Axes>"
      ]
     },
     "metadata": {
      "needs_background": "light"
     },
     "output_type": "display_data"
    }
   ],
   "source": [
    "normal = norm(loc = 0, scale = 1) \n",
    "fig, ax = plt.subplots(1, 1)\n",
    "x = np.linspace(-3,3,1000)        # Return evenly spaced numbers over a specified interval.\n",
    "y = norm.pdf(x)\n",
    "ax.plot(x,y) \n",
    "plt.show()"
   ]
  },
  {
   "cell_type": "markdown",
   "metadata": {
    "slideshow": {
     "slide_type": "slide"
    }
   },
   "source": [
    "## The Uniform Distribution"
   ]
  },
  {
   "cell_type": "markdown",
   "metadata": {
    "slideshow": {
     "slide_type": "fragment"
    }
   },
   "source": [
    "The uniform distribution is the 'simplest' distribution there is. When can you expect to find or use this distribution?"
   ]
  },
  {
   "cell_type": "markdown",
   "metadata": {
    "slideshow": {
     "slide_type": "fragment"
    }
   },
   "source": [
    "- Drawing from a deck of cards;"
   ]
  },
  {
   "cell_type": "markdown",
   "metadata": {
    "slideshow": {
     "slide_type": "fragment"
    }
   },
   "source": [
    "- A coin toss."
   ]
  },
  {
   "cell_type": "markdown",
   "metadata": {
    "slideshow": {
     "slide_type": "fragment"
    }
   },
   "source": [
    "..."
   ]
  },
  {
   "cell_type": "markdown",
   "metadata": {
    "slideshow": {
     "slide_type": "fragment"
    }
   },
   "source": [
    "In other words, when the **probabilities of the outcomes are equal.** "
   ]
  },
  {
   "cell_type": "markdown",
   "metadata": {
    "slideshow": {
     "slide_type": "slide"
    }
   },
   "source": [
    "### Visual Example"
   ]
  },
  {
   "cell_type": "code",
   "execution_count": 4,
   "metadata": {
    "slideshow": {
     "slide_type": "slide"
    }
   },
   "outputs": [],
   "source": [
    "import numpy as np\n",
    "from scipy.stats import uniform\n",
    "import matplotlib.pyplot as plt"
   ]
  },
  {
   "cell_type": "code",
   "execution_count": 114,
   "metadata": {},
   "outputs": [
    {
     "data": {
      "text/plain": [
       "[<matplotlib.lines.Line2D at 0x7f8d08463550>]"
      ]
     },
     "execution_count": 114,
     "metadata": {},
     "output_type": "execute_result"
    },
    {
     "data": {
      "image/png": "[encoded data removed]",
      "text/plain": [
       "<Figure size 432x288 with 1 Axes>"
      ]
     },
     "metadata": {
      "needs_background": "light"
     },
     "output_type": "display_data"
    }
   ],
   "source": [
    "a=0\n",
    "b=10\n",
    "\n",
    "fig, ax = plt.subplots(1, 1)\n",
    "x = np.linspace(a,b, 100) \n",
    "y = uniform.pdf(x, a, b)\n",
    "ax.plot(x, y)"
   ]
  },
  {
   "cell_type": "markdown",
   "metadata": {
    "slideshow": {
     "slide_type": "slide"
    }
   },
   "source": [
    "### Obtain the probability at a given point"
   ]
  },
  {
   "cell_type": "code",
   "execution_count": 117,
   "metadata": {
    "slideshow": {
     "slide_type": "fragment"
    }
   },
   "outputs": [
    {
     "data": {
      "text/plain": [
       "0.1"
      ]
     },
     "execution_count": 117,
     "metadata": {},
     "output_type": "execute_result"
    }
   ],
   "source": [
    "uniform.pdf(1.7 ,a, b)"
   ]
  },
  {
   "cell_type": "code",
   "execution_count": 118,
   "metadata": {},
   "outputs": [
    {
     "data": {
      "text/plain": [
       "0.15"
      ]
     },
     "execution_count": 118,
     "metadata": {},
     "output_type": "execute_result"
    }
   ],
   "source": [
    "uniform.cdf(1.5 ,a, b)"
   ]
  },
  {
   "cell_type": "code",
   "execution_count": 119,
   "metadata": {
    "slideshow": {
     "slide_type": "fragment"
    }
   },
   "outputs": [
    {
     "data": {
      "text/plain": [
       "[<matplotlib.lines.Line2D at 0x7f8d08599490>]"
      ]
     },
     "execution_count": 119,
     "metadata": {},
     "output_type": "execute_result"
    },
    {
     "data": {
      "image/png": "[encoded data removed]",
      "text/plain": [
       "<Figure size 432x288 with 1 Axes>"
      ]
     },
     "metadata": {
      "needs_background": "light"
     },
     "output_type": "display_data"
    }
   ],
   "source": [
    "fig, ax = plt.subplots(1, 1)\n",
    "x = np.linspace(0,1, 100)\n",
    "ax.plot(x, uniform.pdf(x))"
   ]
  },
  {
   "cell_type": "markdown",
   "metadata": {
    "slideshow": {
     "slide_type": "slide"
    }
   },
   "source": [
    "### Obtain the cumulative probability at a given point"
   ]
  },
  {
   "cell_type": "code",
   "execution_count": 120,
   "metadata": {
    "slideshow": {
     "slide_type": "fragment"
    }
   },
   "outputs": [
    {
     "data": {
      "text/plain": [
       "0.6"
      ]
     },
     "execution_count": 120,
     "metadata": {},
     "output_type": "execute_result"
    }
   ],
   "source": [
    "uniform.cdf(0.6)"
   ]
  },
  {
   "cell_type": "markdown",
   "metadata": {
    "slideshow": {
     "slide_type": "slide"
    }
   },
   "source": [
    "### Another example"
   ]
  },
  {
   "cell_type": "code",
   "execution_count": 121,
   "metadata": {
    "slideshow": {
     "slide_type": "fragment"
    }
   },
   "outputs": [
    {
     "data": {
      "text/plain": [
       "[<matplotlib.lines.Line2D at 0x7f8d08606710>]"
      ]
     },
     "execution_count": 121,
     "metadata": {},
     "output_type": "execute_result"
    },
    {
     "data": {
      "image/png": "[encoded data removed]",
      "text/plain": [
       "<Figure size 432x288 with 1 Axes>"
      ]
     },
     "metadata": {
      "needs_background": "light"
     },
     "output_type": "display_data"
    }
   ],
   "source": [
    "# Uniform distribution between point a and b\n",
    "a=1\n",
    "b=6\n",
    "fig, ax = plt.subplots(1, 1)\n",
    "x = np.linspace(a,b, 100) \n",
    "y = uniform.pdf(x, a, b)\n",
    "ax.plot(x, y)"
   ]
  },
  {
   "cell_type": "code",
   "execution_count": 122,
   "metadata": {
    "slideshow": {
     "slide_type": "slide"
    }
   },
   "outputs": [
    {
     "data": {
      "text/plain": [
       "0.16666666666666666"
      ]
     },
     "execution_count": 122,
     "metadata": {},
     "output_type": "execute_result"
    }
   ],
   "source": [
    "uniform.pdf(4, 1, 6)"
   ]
  },
  {
   "cell_type": "code",
   "execution_count": 123,
   "metadata": {
    "slideshow": {
     "slide_type": "fragment"
    }
   },
   "outputs": [
    {
     "data": {
      "text/plain": [
       "[<matplotlib.lines.Line2D at 0x7f8d086e5350>]"
      ]
     },
     "execution_count": 123,
     "metadata": {},
     "output_type": "execute_result"
    },
    {
     "data": {
      "image/png": "[encoded data removed]",
      "text/plain": [
       "<Figure size 432x288 with 1 Axes>"
      ]
     },
     "metadata": {
      "needs_background": "light"
     },
     "output_type": "display_data"
    }
   ],
   "source": [
    "a=1\n",
    "b=6\n",
    "fig, ax = plt.subplots(1, 1)\n",
    "x = np.linspace(a,b, 100) \n",
    "y = uniform.pdf(x, a, b)\n",
    "ax.plot(x, y)"
   ]
  },
  {
   "cell_type": "markdown",
   "metadata": {
    "slideshow": {
     "slide_type": "slide"
    }
   },
   "source": [
    "Let us also plot the cumulative density function. "
   ]
  },
  {
   "cell_type": "code",
   "execution_count": 124,
   "metadata": {
    "slideshow": {
     "slide_type": "slide"
    }
   },
   "outputs": [
    {
     "data": {
      "text/plain": [
       "[<matplotlib.lines.Line2D at 0x7f8d08931a50>]"
      ]
     },
     "execution_count": 124,
     "metadata": {},
     "output_type": "execute_result"
    },
    {
     "data": {
      "image/png": "[encoded data removed]",
      "text/plain": [
       "<Figure size 432x288 with 1 Axes>"
      ]
     },
     "metadata": {
      "needs_background": "light"
     },
     "output_type": "display_data"
    }
   ],
   "source": [
    "# Uniform distribution between point a and b\n",
    "fig, ax = plt.subplots(1, 1)\n",
    "a=0\n",
    "b=6\n",
    "x = np.linspace(a,b, 100)\n",
    "y = uniform.cdf(x, a, b)\n",
    "ax.plot(x, y)"
   ]
  },
  {
   "cell_type": "markdown",
   "metadata": {
    "slideshow": {
     "slide_type": "slide"
    }
   },
   "source": [
    "## Exponential Distribution"
   ]
  },
  {
   "cell_type": "markdown",
   "metadata": {
    "slideshow": {
     "slide_type": "slide"
    }
   },
   "source": [
    "The exponential distribution can be observed when the probability that we obtain a low-valued outcome is higher than obtaining a high-valued outcome. For example:"
   ]
  },
  {
   "cell_type": "markdown",
   "metadata": {
    "slideshow": {
     "slide_type": "fragment"
    }
   },
   "source": [
    "- The probability that we have to wait for 10 minutes for our train is higher than the probability that we have to wait for 70 minutes;"
   ]
  },
  {
   "cell_type": "markdown",
   "metadata": {
    "slideshow": {
     "slide_type": "fragment"
    }
   },
   "source": [
    "- The probability that we will observe 1 goal in a football match is higher than the probability that we will observe 5 goals."
   ]
  },
  {
   "cell_type": "markdown",
   "metadata": {
    "slideshow": {
     "slide_type": "slide"
    }
   },
   "source": [
    "### Visual Example"
   ]
  },
  {
   "cell_type": "code",
   "execution_count": 2,
   "metadata": {
    "slideshow": {
     "slide_type": "slide"
    }
   },
   "outputs": [],
   "source": [
    "from scipy.stats import expon"
   ]
  },
  {
   "cell_type": "code",
   "execution_count": 126,
   "metadata": {
    "slideshow": {
     "slide_type": "slide"
    }
   },
   "outputs": [
    {
     "data": {
      "text/plain": [
       "[<matplotlib.lines.Line2D at 0x7f8d05605f50>]"
      ]
     },
     "execution_count": 126,
     "metadata": {},
     "output_type": "execute_result"
    },
    {
     "data": {
      "image/png": "[encoded data removed]",
      "text/plain": [
       "<Figure size 432x288 with 1 Axes>"
      ]
     },
     "metadata": {
      "needs_background": "light"
     },
     "output_type": "display_data"
    }
   ],
   "source": [
    "exp = expon(scale = 1)\n",
    "x = np.linspace(0,10,100)\n",
    "y = expon.pdf(x)\n",
    "fig, ax = plt.subplots(1, 1)\n",
    "ax.plot(x,y)"
   ]
  },
  {
   "cell_type": "markdown",
   "metadata": {
    "slideshow": {
     "slide_type": "slide"
    }
   },
   "source": [
    "### Obtain the probability at a given point"
   ]
  },
  {
   "cell_type": "code",
   "execution_count": 127,
   "metadata": {
    "slideshow": {
     "slide_type": "fragment"
    }
   },
   "outputs": [
    {
     "name": "stdout",
     "output_type": "stream",
     "text": [
      "0.36787944117144233\n"
     ]
    }
   ],
   "source": [
    "print(exp.pdf(1))"
   ]
  },
  {
   "cell_type": "code",
   "execution_count": 6,
   "metadata": {
    "slideshow": {
     "slide_type": "fragment"
    }
   },
   "outputs": [
    {
     "data": {
      "text/plain": [
       "[<matplotlib.lines.Line2D at 0x295608cf790>]"
      ]
     },
     "execution_count": 6,
     "metadata": {},
     "output_type": "execute_result"
    },
    {
     "data": {
      "image/png": "[encoded data removed]",
      "text/plain": [
       "<Figure size 432x288 with 1 Axes>"
      ]
     },
     "metadata": {
      "needs_background": "light"
     },
     "output_type": "display_data"
    }
   ],
   "source": [
    "exp = expon(scale = 1)\n",
    "x = np.linspace(0,10,100)\n",
    "y = expon.pdf(x)\n",
    "fig, ax = plt.subplots(1, 1)\n",
    "ax.plot(x,y)\n"
   ]
  },
  {
   "cell_type": "markdown",
   "metadata": {
    "slideshow": {
     "slide_type": "slide"
    }
   },
   "source": [
    "### Obtain the cumulative probability at a given point"
   ]
  },
  {
   "cell_type": "code",
   "execution_count": 129,
   "metadata": {
    "slideshow": {
     "slide_type": "fragment"
    }
   },
   "outputs": [
    {
     "name": "stdout",
     "output_type": "stream",
     "text": [
      "0.6321205588285577\n"
     ]
    }
   ],
   "source": [
    "print(exp.cdf(1))       "
   ]
  },
  {
   "cell_type": "code",
   "execution_count": 130,
   "metadata": {
    "slideshow": {
     "slide_type": "fragment"
    }
   },
   "outputs": [
    {
     "data": {
      "text/plain": [
       "[<matplotlib.lines.Line2D at 0x7f8d08a38a90>]"
      ]
     },
     "execution_count": 130,
     "metadata": {},
     "output_type": "execute_result"
    },
    {
     "data": {
      "image/png": "[encoded data removed]",
      "text/plain": [
       "<Figure size 432x288 with 1 Axes>"
      ]
     },
     "metadata": {
      "needs_background": "light"
     },
     "output_type": "display_data"
    }
   ],
   "source": [
    "exp = expon(scale = 1)\n",
    "x = np.linspace(0,10,100)\n",
    "y = expon.pdf(x)\n",
    "fig, ax = plt.subplots(1, 1)\n",
    "ax.plot(x,y)"
   ]
  },
  {
   "cell_type": "markdown",
   "metadata": {
    "slideshow": {
     "slide_type": "slide"
    }
   },
   "source": [
    "## Summary"
   ]
  },
  {
   "cell_type": "markdown",
   "metadata": {
    "slideshow": {
     "slide_type": "fragment"
    }
   },
   "source": [
    "In this lecture we learnt about:"
   ]
  },
  {
   "cell_type": "markdown",
   "metadata": {
    "slideshow": {
     "slide_type": "fragment"
    }
   },
   "source": [
    "- The basics of continuous distributions and the cumulative density;"
   ]
  },
  {
   "cell_type": "markdown",
   "metadata": {
    "slideshow": {
     "slide_type": "fragment"
    }
   },
   "source": [
    "- The Gaussian, Uniform and Exponential Distributions. "
   ]
  },
  {
   "cell_type": "markdown",
   "metadata": {
    "slideshow": {
     "slide_type": "skip"
    }
   },
   "source": [
    "## Appendix"
   ]
  },
  {
   "cell_type": "markdown",
   "metadata": {
    "slideshow": {
     "slide_type": "slide"
    }
   },
   "source": [
    "**IMPORTANT:** Only review this appendix if you're comfortable with mathematical notation (e.g. integral notation) as well as with the basics of probability theory. "
   ]
  },
  {
   "cell_type": "markdown",
   "metadata": {
    "Collapsed": "false",
    "colab_type": "text",
    "id": "hgnutviTLasr",
    "slideshow": {
     "slide_type": "skip"
    }
   },
   "source": [
    "## Common Continuous Distributions\n",
    "\n",
    "Now we will discuss some common types of continuous distributions.\n"
   ]
  },
  {
   "cell_type": "markdown",
   "metadata": {
    "Collapsed": "false",
    "colab_type": "text",
    "id": "EWPAUkD_LhyF",
    "slideshow": {
     "slide_type": "skip"
    }
   },
   "source": [
    "### Uniform Distribution\n",
    "\n",
    "Uniform distribution is defined by the following function:\n",
    "\n",
    "$$f(x)=\n",
    "    \\begin{cases}\n",
    "      1, & \\text{if}\\ 0 < x < 1 \\\\\n",
    "      0, & \\text{otherwise}\n",
    "    \\end{cases}$$\n",
    "\n",
    "A more general definition is given as follows where x is not just restricted between 0 and 1:\n",
    "\n",
    "$$f(x)=\n",
    "    \\begin{cases}\n",
    "      \\frac{1}{\\beta - \\alpha}, & \\text{if}\\ \\alpha < x < \\beta \\\\\n",
    "      0, & \\text{otherwise}\n",
    "    \\end{cases}$$\n",
    "\n",
    "*Note: The range of values on which the function is defined is called the domain whereas the values of the function mapped to the domain is called range.*"
   ]
  },
  {
   "cell_type": "markdown",
   "metadata": {
    "Collapsed": "false",
    "colab_type": "text",
    "id": "KYgvDIl-ObBY",
    "slideshow": {
     "slide_type": "skip"
    }
   },
   "source": [
    "- Domain for x is  (-∞, ∞)\n",
    "- Range is 0, 1\n",
    "- Parameters: a, b\n",
    "\n",
    "**One of the most common applications of uniform numbers is to generate random numbers without any bias.** The probability of obtaining an unbiased random number in the range (a,b) is always constant.\n",
    "\n",
    "*NOTE: The uniform distribution can also be discrete. Consider the example of rolling a die. Probability of each event happening is the same (1/6).*\n",
    "\n",
    "Standard Uniform Distribution in Python code example:"
   ]
  },
  {
   "cell_type": "code",
   "execution_count": null,
   "metadata": {
    "Collapsed": "false",
    "colab": {},
    "colab_type": "code",
    "id": "CQKlnWczLaLT",
    "slideshow": {
     "slide_type": "skip"
    }
   },
   "outputs": [],
   "source": [
    "import numpy as np\n",
    "from scipy.stats import uniform\n",
    "import matplotlib.pyplot as plt"
   ]
  },
  {
   "cell_type": "code",
   "execution_count": null,
   "metadata": {
    "Collapsed": "false",
    "colab": {
     "base_uri": "https://localhost:8080/",
     "height": 282
    },
    "colab_type": "code",
    "executionInfo": {
     "elapsed": 765,
     "status": "ok",
     "timestamp": 1585245625070,
     "user": {
      "displayName": "Louk Smalbil",
      "photoUrl": "https://lh3.googleusercontent.com/a-/AOh14GiByqcfGW98Bn42uapsD4oj4auyrLV9xURPKHUj=s64",
      "userId": "10422991521784029462"
     },
     "user_tz": -60
    },
    "id": "rV41arKfO17j",
    "outputId": "a9fed188-6bdd-4ffa-91af-76376fd72bee",
    "slideshow": {
     "slide_type": "skip"
    }
   },
   "outputs": [],
   "source": [
    "fig, ax = plt.subplots(1, 1)\n",
    "x = np.linspace(0,1, 100)\n",
    "ax.plot(x, uniform.pdf(x))"
   ]
  },
  {
   "cell_type": "markdown",
   "metadata": {
    "Collapsed": "false",
    "colab_type": "text",
    "id": "NWZEny3VJYsy",
    "slideshow": {
     "slide_type": "skip"
    }
   },
   "source": [
    "Uniform Distribution between point (a,b):"
   ]
  },
  {
   "cell_type": "code",
   "execution_count": null,
   "metadata": {
    "Collapsed": "false",
    "colab": {
     "base_uri": "https://localhost:8080/",
     "height": 282
    },
    "colab_type": "code",
    "executionInfo": {
     "elapsed": 753,
     "status": "ok",
     "timestamp": 1585245670733,
     "user": {
      "displayName": "Louk Smalbil",
      "photoUrl": "https://lh3.googleusercontent.com/a-/AOh14GiByqcfGW98Bn42uapsD4oj4auyrLV9xURPKHUj=s64",
      "userId": "10422991521784029462"
     },
     "user_tz": -60
    },
    "id": "C7dKRyv0G5DX",
    "outputId": "0102f612-1f76-4765-8ca4-bde7b67d6953",
    "slideshow": {
     "slide_type": "skip"
    }
   },
   "outputs": [],
   "source": [
    "fig, ax = plt.subplots(1, 1)\n",
    "a=1\n",
    "b=6\n",
    "x = np.linspace(a,b, 100)\n",
    "y = uniform.pdf(x, a, b)\n",
    "ax.plot(x, y)"
   ]
  },
  {
   "cell_type": "markdown",
   "metadata": {
    "Collapsed": "false",
    "colab_type": "text",
    "id": "8Hn6EXX9PKnA",
    "slideshow": {
     "slide_type": "skip"
    }
   },
   "source": [
    "## Normal Distributions (Gaussian)\n",
    "\n",
    "Normal Distribution is also known as the bell shaped curve. The distribution function is defined as:\n",
    "\n",
    "$$f(x) = \\frac{1}{\\sqrt{2 \\pi \\sigma}} e^{-(x-\\mu)^{2}/2 \\sigma^{2}}$$"
   ]
  },
  {
   "cell_type": "markdown",
   "metadata": {
    "Collapsed": "false",
    "colab_type": "text",
    "id": "LFC1XBcu4Wtw",
    "slideshow": {
     "slide_type": "skip"
    }
   },
   "source": [
    "- Domain: Any real number \n",
    "- Range: Any real number\n",
    "- Parameters: mean, sd "
   ]
  },
  {
   "cell_type": "markdown",
   "metadata": {
    "Collapsed": "false",
    "colab_type": "text",
    "id": "sLPsxY974mmI",
    "slideshow": {
     "slide_type": "skip"
    }
   },
   "source": [
    "Some important properties of normal distribution are:\n",
    "\n",
    "- It is symmetrical about the mean\n",
    "- Total area under the curve is 1\n",
    "- The parameters and determine the shape of the curve\n",
    "- Mean and standard deviation can take on any real number\n",
    "- When =0 and =1, it is called a Standard Normal Deviation\n",
    "\n",
    "Python code example:\n",
    "\n"
   ]
  },
  {
   "cell_type": "code",
   "execution_count": null,
   "metadata": {
    "Collapsed": "false",
    "colab": {},
    "colab_type": "code",
    "id": "tKGmhdDs4zEs",
    "slideshow": {
     "slide_type": "skip"
    }
   },
   "outputs": [],
   "source": [
    "import math\n",
    "from scipy.stats import norm"
   ]
  },
  {
   "cell_type": "code",
   "execution_count": null,
   "metadata": {
    "Collapsed": "false",
    "colab": {
     "base_uri": "https://localhost:8080/",
     "height": 265
    },
    "colab_type": "code",
    "executionInfo": {
     "elapsed": 1156,
     "status": "ok",
     "timestamp": 1585245867158,
     "user": {
      "displayName": "Louk Smalbil",
      "photoUrl": "https://lh3.googleusercontent.com/a-/AOh14GiByqcfGW98Bn42uapsD4oj4auyrLV9xURPKHUj=s64",
      "userId": "10422991521784029462"
     },
     "user_tz": -60
    },
    "id": "fOr3I4Lk42q6",
    "outputId": "23ea6773-93d9-4160-a62e-b78034f1c26c",
    "slideshow": {
     "slide_type": "skip"
    }
   },
   "outputs": [],
   "source": [
    "normal = norm(0, math.sqrt(9)) \n",
    "fig, ax = plt.subplots(1, 1)\n",
    "x = np.linspace(-3,3,1000)\n",
    "y = norm.pdf(x)\n",
    "ax.plot(x,y)\n",
    "plt.show()"
   ]
  },
  {
   "cell_type": "code",
   "execution_count": null,
   "metadata": {
    "Collapsed": "false",
    "colab": {
     "base_uri": "https://localhost:8080/",
     "height": 34
    },
    "colab_type": "code",
    "executionInfo": {
     "elapsed": 493,
     "status": "ok",
     "timestamp": 1585245896771,
     "user": {
      "displayName": "Louk Smalbil",
      "photoUrl": "https://lh3.googleusercontent.com/a-/AOh14GiByqcfGW98Bn42uapsD4oj4auyrLV9xURPKHUj=s64",
      "userId": "10422991521784029462"
     },
     "user_tz": -60
    },
    "id": "bx0PVoAq46vH",
    "outputId": "1b9907de-e0d3-438b-dfbd-cd2f7cb1e3b5",
    "slideshow": {
     "slide_type": "skip"
    }
   },
   "outputs": [],
   "source": [
    "# Print the probabiliy of 4\n",
    "print(normal.pdf(3))"
   ]
  },
  {
   "cell_type": "code",
   "execution_count": null,
   "metadata": {
    "Collapsed": "false",
    "colab": {
     "base_uri": "https://localhost:8080/",
     "height": 34
    },
    "colab_type": "code",
    "executionInfo": {
     "elapsed": 623,
     "status": "ok",
     "timestamp": 1585245911626,
     "user": {
      "displayName": "Louk Smalbil",
      "photoUrl": "https://lh3.googleusercontent.com/a-/AOh14GiByqcfGW98Bn42uapsD4oj4auyrLV9xURPKHUj=s64",
      "userId": "10422991521784029462"
     },
     "user_tz": -60
    },
    "id": "iznAoKH_5H9B",
    "outputId": "5270dc61-0152-4bea-c572-2620c0034693",
    "slideshow": {
     "slide_type": "skip"
    }
   },
   "outputs": [],
   "source": [
    "# Print the probability that X \\leq 2\n",
    "print(normal.cdf(2))     "
   ]
  },
  {
   "cell_type": "code",
   "execution_count": null,
   "metadata": {
    "Collapsed": "false",
    "colab": {
     "base_uri": "https://localhost:8080/",
     "height": 34
    },
    "colab_type": "code",
    "executionInfo": {
     "elapsed": 485,
     "status": "ok",
     "timestamp": 1585245941182,
     "user": {
      "displayName": "Louk Smalbil",
      "photoUrl": "https://lh3.googleusercontent.com/a-/AOh14GiByqcfGW98Bn42uapsD4oj4auyrLV9xURPKHUj=s64",
      "userId": "10422991521784029462"
     },
     "user_tz": -60
    },
    "id": "cAEjeLVf5T46",
    "outputId": "90b8d48b-121c-413b-b915-3768cd5be4a7",
    "slideshow": {
     "slide_type": "skip"
    }
   },
   "outputs": [],
   "source": [
    "# Draw a random sample\n",
    "print(normal.rvs()) "
   ]
  },
  {
   "cell_type": "markdown",
   "metadata": {
    "Collapsed": "false",
    "colab_type": "text",
    "id": "KTJOsiJM46Ge",
    "slideshow": {
     "slide_type": "skip"
    }
   },
   "source": [
    "## Exponential Distribution\n",
    "\n",
    "Exponential Distribution function is defined as: \n",
    "\n",
    "\n",
    "$$f(x)=\n",
    "    \\begin{cases}\n",
    "      \\lambda e^{-\\lambda x}, & \\text{if}\\ x \\geq 0 \\\\\n",
    "      0, & \\text{otherwise}\n",
    "    \\end{cases}$$\n",
    "\n",
    "- Domain: Any real number\n",
    "- Range: Non Negative real numbers\n",
    "- Parameter: lambda\n",
    "\n",
    "![alt text](https://upload.wikimedia.org/wikipedia/commons/thumb/0/02/Exponential_probability_density.svg/1200px-Exponential_probability_density.svg.png)\n",
    "\n",
    "CDF is given as: \n",
    "\n",
    "$$F(A) = 1 - e^{-\\lambda a}$$\n",
    "\n",
    "**The exponential distribution is often concerned with the amount of time until some specific event occurs. For instance, the amount of time customers spend in a store, arrival of buses at the station, the amount of time customers spend on a website, etc.** The distributions of these time measures are often exponential. \n",
    "\n",
    "\n"
   ]
  },
  {
   "cell_type": "markdown",
   "metadata": {
    "Collapsed": "false",
    "colab_type": "text",
    "id": "X3ZrxttW6wz_",
    "slideshow": {
     "slide_type": "skip"
    }
   },
   "source": [
    "Python code example:\n"
   ]
  },
  {
   "cell_type": "code",
   "execution_count": null,
   "metadata": {
    "Collapsed": "false",
    "colab": {},
    "colab_type": "code",
    "id": "b3O1w3gq60cF",
    "slideshow": {
     "slide_type": "skip"
    }
   },
   "outputs": [],
   "source": [
    "from scipy.stats import expon"
   ]
  },
  {
   "cell_type": "code",
   "execution_count": null,
   "metadata": {
    "Collapsed": "false",
    "colab": {
     "base_uri": "https://localhost:8080/",
     "height": 282
    },
    "colab_type": "code",
    "executionInfo": {
     "elapsed": 489,
     "status": "ok",
     "timestamp": 1585246062600,
     "user": {
      "displayName": "Louk Smalbil",
      "photoUrl": "https://lh3.googleusercontent.com/a-/AOh14GiByqcfGW98Bn42uapsD4oj4auyrLV9xURPKHUj=s64",
      "userId": "10422991521784029462"
     },
     "user_tz": -60
    },
    "id": "0clLsL_D6ygf",
    "outputId": "5ba750f4-04af-40f8-839e-66f742191a2c",
    "slideshow": {
     "slide_type": "skip"
    }
   },
   "outputs": [],
   "source": [
    "\"\"\"\n",
    "N.B. \"A common parameterization for expon is in terms of the rate parameter \n",
    "lambda, such that pdf = lambda * exp(-lambda * x). This parameterization \n",
    "corresponds to using scale = 1 / lambda.\" (SciPy documentation)\n",
    "\"\"\"\n",
    "exp = expon(1) \n",
    "x = np.linspace(0,10,100)\n",
    "y = expon.pdf(x, 0, 1)\n",
    "fig, ax = plt.subplots(1, 1)\n",
    "ax.plot(x,y)"
   ]
  },
  {
   "cell_type": "code",
   "execution_count": null,
   "metadata": {
    "Collapsed": "false",
    "colab": {
     "base_uri": "https://localhost:8080/",
     "height": 51
    },
    "colab_type": "code",
    "executionInfo": {
     "elapsed": 722,
     "status": "ok",
     "timestamp": 1585246081355,
     "user": {
      "displayName": "Louk Smalbil",
      "photoUrl": "https://lh3.googleusercontent.com/a-/AOh14GiByqcfGW98Bn42uapsD4oj4auyrLV9xURPKHUj=s64",
      "userId": "10422991521784029462"
     },
     "user_tz": -60
    },
    "id": "SaBNopHL67UM",
    "outputId": "9e5ecd66-4356-4340-8d1a-6f72cb8b7214",
    "slideshow": {
     "slide_type": "skip"
    }
   },
   "outputs": [],
   "source": [
    "print(exp.pdf(4))\n",
    "print(exp.cdf(2))       \n",
    "#print(exp.rvs()) "
   ]
  },
  {
   "cell_type": "markdown",
   "metadata": {
    "Collapsed": "false",
    "colab_type": "text",
    "id": "QFC9g3pH7d_v",
    "slideshow": {
     "slide_type": "skip"
    }
   },
   "source": [
    "## Summary\n",
    "\n",
    "In this lesson we learned about continuous random variable and continuous probability distributions including continuous uniform, normal, and exponential distribution. We learn how to characterize distributions by their PDF (probability density function), CDF (cumulative distribution function) and its parameters. We also looked at how to generate this random variables from a distribution and calculate some statistics using SciPy.\n",
    "\n",
    "Additional Resources:\n",
    "\n",
    "\n",
    "\n",
    "*   https://www.statisticshowto.datasciencecentral.com/cumulative-distribution-function/\n",
    "*   https://www.youtube.com/watch?v=OWSOhpS00_s\n",
    "* https://wiki.ubc.ca/1.4_The_Cumulative_Distribution_Function\n",
    "* https://towardsdatascience.com/probability-concepts-explained-probability-distributions-introduction-part-3-4a5db81858dc\n",
    "* https://medium.com/@srowen/common-probability-distributions-347e6b945ce4\n",
    "* https://machinelearningmastery.com/continuous-probability-distributions-for-machine-learning/\n",
    "\n"
   ]
  },
  {
   "cell_type": "code",
   "execution_count": null,
   "metadata": {
    "Collapsed": "false",
    "colab": {},
    "colab_type": "code",
    "id": "jQLYP_oAl-s3",
    "slideshow": {
     "slide_type": "skip"
    }
   },
   "outputs": [],
   "source": []
  }
 ],
 "metadata": {
  "celltoolbar": "Slideshow",
  "colab": {
   "authorship_tag": "ABX9TyOU6wJFuBXXCDcHBKcSeKyR",
   "collapsed_sections": [],
   "name": "Continuous_Probability_Distributions.ipynb",
   "provenance": []
  },
  "kernelspec": {
   "display_name": "Python 3",
   "language": "python",
   "name": "python3"
  },
  "language_info": {
   "codemirror_mode": {
    "name": "ipython",
    "version": 3
   },
   "file_extension": ".py",
   "mimetype": "text/x-python",
   "name": "python",
   "nbconvert_exporter": "python",
   "pygments_lexer": "ipython3",
   "version": "3.8.5"
  }
 },
 "nbformat": 4,
 "nbformat_minor": 4
}
